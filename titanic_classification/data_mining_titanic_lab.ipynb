{
 "cells": [
  {
   "cell_type": "markdown",
   "id": "85c6e633",
   "metadata": {},
   "source": [
    "# Part I: Setting Up Your Dataset"
   ]
  },
  {
   "cell_type": "markdown",
   "id": "563b62e7",
   "metadata": {},
   "source": [
    "## Question 1"
   ]
  },
  {
   "cell_type": "code",
   "execution_count": 80,
   "id": "fe36aa86",
   "metadata": {},
   "outputs": [
    {
     "data": {
      "text/html": [
       "<div>\n",
       "<style scoped>\n",
       "    .dataframe tbody tr th:only-of-type {\n",
       "        vertical-align: middle;\n",
       "    }\n",
       "\n",
       "    .dataframe tbody tr th {\n",
       "        vertical-align: top;\n",
       "    }\n",
       "\n",
       "    .dataframe thead th {\n",
       "        text-align: right;\n",
       "    }\n",
       "</style>\n",
       "<table border=\"1\" class=\"dataframe\">\n",
       "  <thead>\n",
       "    <tr style=\"text-align: right;\">\n",
       "      <th></th>\n",
       "      <th>PassengerId</th>\n",
       "      <th>Survived</th>\n",
       "      <th>Pclass</th>\n",
       "      <th>Name</th>\n",
       "      <th>Sex</th>\n",
       "      <th>Age</th>\n",
       "      <th>SibSp</th>\n",
       "      <th>Parch</th>\n",
       "      <th>Ticket</th>\n",
       "      <th>Fare</th>\n",
       "      <th>Cabin</th>\n",
       "      <th>Embarked</th>\n",
       "    </tr>\n",
       "  </thead>\n",
       "  <tbody>\n",
       "    <tr>\n",
       "      <th>0</th>\n",
       "      <td>1</td>\n",
       "      <td>0</td>\n",
       "      <td>3</td>\n",
       "      <td>Braund, Mr. Owen Harris</td>\n",
       "      <td>male</td>\n",
       "      <td>22.0</td>\n",
       "      <td>1</td>\n",
       "      <td>0</td>\n",
       "      <td>A/5 21171</td>\n",
       "      <td>7.2500</td>\n",
       "      <td>NaN</td>\n",
       "      <td>S</td>\n",
       "    </tr>\n",
       "    <tr>\n",
       "      <th>1</th>\n",
       "      <td>2</td>\n",
       "      <td>1</td>\n",
       "      <td>1</td>\n",
       "      <td>Cumings, Mrs. John Bradley (Florence Briggs Th...</td>\n",
       "      <td>female</td>\n",
       "      <td>38.0</td>\n",
       "      <td>1</td>\n",
       "      <td>0</td>\n",
       "      <td>PC 17599</td>\n",
       "      <td>71.2833</td>\n",
       "      <td>C85</td>\n",
       "      <td>C</td>\n",
       "    </tr>\n",
       "    <tr>\n",
       "      <th>2</th>\n",
       "      <td>3</td>\n",
       "      <td>1</td>\n",
       "      <td>3</td>\n",
       "      <td>Heikkinen, Miss. Laina</td>\n",
       "      <td>female</td>\n",
       "      <td>26.0</td>\n",
       "      <td>0</td>\n",
       "      <td>0</td>\n",
       "      <td>STON/O2. 3101282</td>\n",
       "      <td>7.9250</td>\n",
       "      <td>NaN</td>\n",
       "      <td>S</td>\n",
       "    </tr>\n",
       "    <tr>\n",
       "      <th>3</th>\n",
       "      <td>4</td>\n",
       "      <td>1</td>\n",
       "      <td>1</td>\n",
       "      <td>Futrelle, Mrs. Jacques Heath (Lily May Peel)</td>\n",
       "      <td>female</td>\n",
       "      <td>35.0</td>\n",
       "      <td>1</td>\n",
       "      <td>0</td>\n",
       "      <td>113803</td>\n",
       "      <td>53.1000</td>\n",
       "      <td>C123</td>\n",
       "      <td>S</td>\n",
       "    </tr>\n",
       "    <tr>\n",
       "      <th>4</th>\n",
       "      <td>5</td>\n",
       "      <td>0</td>\n",
       "      <td>3</td>\n",
       "      <td>Allen, Mr. William Henry</td>\n",
       "      <td>male</td>\n",
       "      <td>35.0</td>\n",
       "      <td>0</td>\n",
       "      <td>0</td>\n",
       "      <td>373450</td>\n",
       "      <td>8.0500</td>\n",
       "      <td>NaN</td>\n",
       "      <td>S</td>\n",
       "    </tr>\n",
       "    <tr>\n",
       "      <th>...</th>\n",
       "      <td>...</td>\n",
       "      <td>...</td>\n",
       "      <td>...</td>\n",
       "      <td>...</td>\n",
       "      <td>...</td>\n",
       "      <td>...</td>\n",
       "      <td>...</td>\n",
       "      <td>...</td>\n",
       "      <td>...</td>\n",
       "      <td>...</td>\n",
       "      <td>...</td>\n",
       "      <td>...</td>\n",
       "    </tr>\n",
       "    <tr>\n",
       "      <th>886</th>\n",
       "      <td>887</td>\n",
       "      <td>0</td>\n",
       "      <td>2</td>\n",
       "      <td>Montvila, Rev. Juozas</td>\n",
       "      <td>male</td>\n",
       "      <td>27.0</td>\n",
       "      <td>0</td>\n",
       "      <td>0</td>\n",
       "      <td>211536</td>\n",
       "      <td>13.0000</td>\n",
       "      <td>NaN</td>\n",
       "      <td>S</td>\n",
       "    </tr>\n",
       "    <tr>\n",
       "      <th>887</th>\n",
       "      <td>888</td>\n",
       "      <td>1</td>\n",
       "      <td>1</td>\n",
       "      <td>Graham, Miss. Margaret Edith</td>\n",
       "      <td>female</td>\n",
       "      <td>19.0</td>\n",
       "      <td>0</td>\n",
       "      <td>0</td>\n",
       "      <td>112053</td>\n",
       "      <td>30.0000</td>\n",
       "      <td>B42</td>\n",
       "      <td>S</td>\n",
       "    </tr>\n",
       "    <tr>\n",
       "      <th>888</th>\n",
       "      <td>889</td>\n",
       "      <td>0</td>\n",
       "      <td>3</td>\n",
       "      <td>Johnston, Miss. Catherine Helen \"Carrie\"</td>\n",
       "      <td>female</td>\n",
       "      <td>NaN</td>\n",
       "      <td>1</td>\n",
       "      <td>2</td>\n",
       "      <td>W./C. 6607</td>\n",
       "      <td>23.4500</td>\n",
       "      <td>NaN</td>\n",
       "      <td>S</td>\n",
       "    </tr>\n",
       "    <tr>\n",
       "      <th>889</th>\n",
       "      <td>890</td>\n",
       "      <td>1</td>\n",
       "      <td>1</td>\n",
       "      <td>Behr, Mr. Karl Howell</td>\n",
       "      <td>male</td>\n",
       "      <td>26.0</td>\n",
       "      <td>0</td>\n",
       "      <td>0</td>\n",
       "      <td>111369</td>\n",
       "      <td>30.0000</td>\n",
       "      <td>C148</td>\n",
       "      <td>C</td>\n",
       "    </tr>\n",
       "    <tr>\n",
       "      <th>890</th>\n",
       "      <td>891</td>\n",
       "      <td>0</td>\n",
       "      <td>3</td>\n",
       "      <td>Dooley, Mr. Patrick</td>\n",
       "      <td>male</td>\n",
       "      <td>32.0</td>\n",
       "      <td>0</td>\n",
       "      <td>0</td>\n",
       "      <td>370376</td>\n",
       "      <td>7.7500</td>\n",
       "      <td>NaN</td>\n",
       "      <td>Q</td>\n",
       "    </tr>\n",
       "  </tbody>\n",
       "</table>\n",
       "<p>891 rows × 12 columns</p>\n",
       "</div>"
      ],
      "text/plain": [
       "     PassengerId  Survived  Pclass  \\\n",
       "0              1         0       3   \n",
       "1              2         1       1   \n",
       "2              3         1       3   \n",
       "3              4         1       1   \n",
       "4              5         0       3   \n",
       "..           ...       ...     ...   \n",
       "886          887         0       2   \n",
       "887          888         1       1   \n",
       "888          889         0       3   \n",
       "889          890         1       1   \n",
       "890          891         0       3   \n",
       "\n",
       "                                                  Name     Sex   Age  SibSp  \\\n",
       "0                              Braund, Mr. Owen Harris    male  22.0      1   \n",
       "1    Cumings, Mrs. John Bradley (Florence Briggs Th...  female  38.0      1   \n",
       "2                               Heikkinen, Miss. Laina  female  26.0      0   \n",
       "3         Futrelle, Mrs. Jacques Heath (Lily May Peel)  female  35.0      1   \n",
       "4                             Allen, Mr. William Henry    male  35.0      0   \n",
       "..                                                 ...     ...   ...    ...   \n",
       "886                              Montvila, Rev. Juozas    male  27.0      0   \n",
       "887                       Graham, Miss. Margaret Edith  female  19.0      0   \n",
       "888           Johnston, Miss. Catherine Helen \"Carrie\"  female   NaN      1   \n",
       "889                              Behr, Mr. Karl Howell    male  26.0      0   \n",
       "890                                Dooley, Mr. Patrick    male  32.0      0   \n",
       "\n",
       "     Parch            Ticket     Fare Cabin Embarked  \n",
       "0        0         A/5 21171   7.2500   NaN        S  \n",
       "1        0          PC 17599  71.2833   C85        C  \n",
       "2        0  STON/O2. 3101282   7.9250   NaN        S  \n",
       "3        0            113803  53.1000  C123        S  \n",
       "4        0            373450   8.0500   NaN        S  \n",
       "..     ...               ...      ...   ...      ...  \n",
       "886      0            211536  13.0000   NaN        S  \n",
       "887      0            112053  30.0000   B42        S  \n",
       "888      2        W./C. 6607  23.4500   NaN        S  \n",
       "889      0            111369  30.0000  C148        C  \n",
       "890      0            370376   7.7500   NaN        Q  \n",
       "\n",
       "[891 rows x 12 columns]"
      ]
     },
     "execution_count": 80,
     "metadata": {},
     "output_type": "execute_result"
    }
   ],
   "source": [
    "##Various imports\n",
    "import pandas as pd\n",
    "import math as math\n",
    "from math import sqrt\n",
    "import matplotlib.pyplot as plt\n",
    "import seaborn as sns\n",
    "\n",
    "##Read titanic_data.xlsx as a dataframe\n",
    "titanic_df = pd.read_excel(\"~/Coding/Jupyter/DSCC 240/data_mining_titanic_lab/titanic_data.xlsx\")\n",
    "titanic_df"
   ]
  },
  {
   "cell_type": "code",
   "execution_count": 81,
   "id": "e1bb9ae1",
   "metadata": {
    "scrolled": true
   },
   "outputs": [
    {
     "name": "stdout",
     "output_type": "stream",
     "text": [
      "177 passengers (19.865319865319865% of the dataset) have no age info.\n"
     ]
    }
   ],
   "source": [
    "##Sum and percentage of passengers with no age info\n",
    "print(str(titanic_df[\"Age\"].isna().sum()) + \" passengers (\" + \n",
    "      str(titanic_df[\"Age\"].isna().sum()/titanic_df[\"PassengerId\"].count() * 100) +  \n",
    "      \"% of the dataset) have no age info.\")"
   ]
  },
  {
   "cell_type": "code",
   "execution_count": 82,
   "id": "ca0ab1af",
   "metadata": {},
   "outputs": [
    {
     "data": {
      "text/html": [
       "<div>\n",
       "<style scoped>\n",
       "    .dataframe tbody tr th:only-of-type {\n",
       "        vertical-align: middle;\n",
       "    }\n",
       "\n",
       "    .dataframe tbody tr th {\n",
       "        vertical-align: top;\n",
       "    }\n",
       "\n",
       "    .dataframe thead th {\n",
       "        text-align: right;\n",
       "    }\n",
       "</style>\n",
       "<table border=\"1\" class=\"dataframe\">\n",
       "  <thead>\n",
       "    <tr style=\"text-align: right;\">\n",
       "      <th></th>\n",
       "      <th>PassengerId</th>\n",
       "      <th>Survived</th>\n",
       "      <th>Pclass</th>\n",
       "      <th>Name</th>\n",
       "      <th>Sex</th>\n",
       "      <th>Age</th>\n",
       "      <th>SibSp</th>\n",
       "      <th>Parch</th>\n",
       "      <th>Ticket</th>\n",
       "      <th>Fare</th>\n",
       "      <th>Cabin</th>\n",
       "      <th>Embarked</th>\n",
       "    </tr>\n",
       "  </thead>\n",
       "  <tbody>\n",
       "    <tr>\n",
       "      <th>0</th>\n",
       "      <td>1</td>\n",
       "      <td>0</td>\n",
       "      <td>3</td>\n",
       "      <td>Braund, Mr. Owen Harris</td>\n",
       "      <td>male</td>\n",
       "      <td>22.0</td>\n",
       "      <td>1</td>\n",
       "      <td>0</td>\n",
       "      <td>A/5 21171</td>\n",
       "      <td>7.2500</td>\n",
       "      <td>NaN</td>\n",
       "      <td>S</td>\n",
       "    </tr>\n",
       "    <tr>\n",
       "      <th>1</th>\n",
       "      <td>2</td>\n",
       "      <td>1</td>\n",
       "      <td>1</td>\n",
       "      <td>Cumings, Mrs. John Bradley (Florence Briggs Th...</td>\n",
       "      <td>female</td>\n",
       "      <td>38.0</td>\n",
       "      <td>1</td>\n",
       "      <td>0</td>\n",
       "      <td>PC 17599</td>\n",
       "      <td>71.2833</td>\n",
       "      <td>C85</td>\n",
       "      <td>C</td>\n",
       "    </tr>\n",
       "    <tr>\n",
       "      <th>2</th>\n",
       "      <td>3</td>\n",
       "      <td>1</td>\n",
       "      <td>3</td>\n",
       "      <td>Heikkinen, Miss. Laina</td>\n",
       "      <td>female</td>\n",
       "      <td>26.0</td>\n",
       "      <td>0</td>\n",
       "      <td>0</td>\n",
       "      <td>STON/O2. 3101282</td>\n",
       "      <td>7.9250</td>\n",
       "      <td>NaN</td>\n",
       "      <td>S</td>\n",
       "    </tr>\n",
       "    <tr>\n",
       "      <th>3</th>\n",
       "      <td>4</td>\n",
       "      <td>1</td>\n",
       "      <td>1</td>\n",
       "      <td>Futrelle, Mrs. Jacques Heath (Lily May Peel)</td>\n",
       "      <td>female</td>\n",
       "      <td>35.0</td>\n",
       "      <td>1</td>\n",
       "      <td>0</td>\n",
       "      <td>113803</td>\n",
       "      <td>53.1000</td>\n",
       "      <td>C123</td>\n",
       "      <td>S</td>\n",
       "    </tr>\n",
       "    <tr>\n",
       "      <th>4</th>\n",
       "      <td>5</td>\n",
       "      <td>0</td>\n",
       "      <td>3</td>\n",
       "      <td>Allen, Mr. William Henry</td>\n",
       "      <td>male</td>\n",
       "      <td>35.0</td>\n",
       "      <td>0</td>\n",
       "      <td>0</td>\n",
       "      <td>373450</td>\n",
       "      <td>8.0500</td>\n",
       "      <td>NaN</td>\n",
       "      <td>S</td>\n",
       "    </tr>\n",
       "    <tr>\n",
       "      <th>...</th>\n",
       "      <td>...</td>\n",
       "      <td>...</td>\n",
       "      <td>...</td>\n",
       "      <td>...</td>\n",
       "      <td>...</td>\n",
       "      <td>...</td>\n",
       "      <td>...</td>\n",
       "      <td>...</td>\n",
       "      <td>...</td>\n",
       "      <td>...</td>\n",
       "      <td>...</td>\n",
       "      <td>...</td>\n",
       "    </tr>\n",
       "    <tr>\n",
       "      <th>885</th>\n",
       "      <td>886</td>\n",
       "      <td>0</td>\n",
       "      <td>3</td>\n",
       "      <td>Rice, Mrs. William (Margaret Norton)</td>\n",
       "      <td>female</td>\n",
       "      <td>39.0</td>\n",
       "      <td>0</td>\n",
       "      <td>5</td>\n",
       "      <td>382652</td>\n",
       "      <td>29.1250</td>\n",
       "      <td>NaN</td>\n",
       "      <td>Q</td>\n",
       "    </tr>\n",
       "    <tr>\n",
       "      <th>886</th>\n",
       "      <td>887</td>\n",
       "      <td>0</td>\n",
       "      <td>2</td>\n",
       "      <td>Montvila, Rev. Juozas</td>\n",
       "      <td>male</td>\n",
       "      <td>27.0</td>\n",
       "      <td>0</td>\n",
       "      <td>0</td>\n",
       "      <td>211536</td>\n",
       "      <td>13.0000</td>\n",
       "      <td>NaN</td>\n",
       "      <td>S</td>\n",
       "    </tr>\n",
       "    <tr>\n",
       "      <th>887</th>\n",
       "      <td>888</td>\n",
       "      <td>1</td>\n",
       "      <td>1</td>\n",
       "      <td>Graham, Miss. Margaret Edith</td>\n",
       "      <td>female</td>\n",
       "      <td>19.0</td>\n",
       "      <td>0</td>\n",
       "      <td>0</td>\n",
       "      <td>112053</td>\n",
       "      <td>30.0000</td>\n",
       "      <td>B42</td>\n",
       "      <td>S</td>\n",
       "    </tr>\n",
       "    <tr>\n",
       "      <th>889</th>\n",
       "      <td>890</td>\n",
       "      <td>1</td>\n",
       "      <td>1</td>\n",
       "      <td>Behr, Mr. Karl Howell</td>\n",
       "      <td>male</td>\n",
       "      <td>26.0</td>\n",
       "      <td>0</td>\n",
       "      <td>0</td>\n",
       "      <td>111369</td>\n",
       "      <td>30.0000</td>\n",
       "      <td>C148</td>\n",
       "      <td>C</td>\n",
       "    </tr>\n",
       "    <tr>\n",
       "      <th>890</th>\n",
       "      <td>891</td>\n",
       "      <td>0</td>\n",
       "      <td>3</td>\n",
       "      <td>Dooley, Mr. Patrick</td>\n",
       "      <td>male</td>\n",
       "      <td>32.0</td>\n",
       "      <td>0</td>\n",
       "      <td>0</td>\n",
       "      <td>370376</td>\n",
       "      <td>7.7500</td>\n",
       "      <td>NaN</td>\n",
       "      <td>Q</td>\n",
       "    </tr>\n",
       "  </tbody>\n",
       "</table>\n",
       "<p>714 rows × 12 columns</p>\n",
       "</div>"
      ],
      "text/plain": [
       "     PassengerId  Survived  Pclass  \\\n",
       "0              1         0       3   \n",
       "1              2         1       1   \n",
       "2              3         1       3   \n",
       "3              4         1       1   \n",
       "4              5         0       3   \n",
       "..           ...       ...     ...   \n",
       "885          886         0       3   \n",
       "886          887         0       2   \n",
       "887          888         1       1   \n",
       "889          890         1       1   \n",
       "890          891         0       3   \n",
       "\n",
       "                                                  Name     Sex   Age  SibSp  \\\n",
       "0                              Braund, Mr. Owen Harris    male  22.0      1   \n",
       "1    Cumings, Mrs. John Bradley (Florence Briggs Th...  female  38.0      1   \n",
       "2                               Heikkinen, Miss. Laina  female  26.0      0   \n",
       "3         Futrelle, Mrs. Jacques Heath (Lily May Peel)  female  35.0      1   \n",
       "4                             Allen, Mr. William Henry    male  35.0      0   \n",
       "..                                                 ...     ...   ...    ...   \n",
       "885               Rice, Mrs. William (Margaret Norton)  female  39.0      0   \n",
       "886                              Montvila, Rev. Juozas    male  27.0      0   \n",
       "887                       Graham, Miss. Margaret Edith  female  19.0      0   \n",
       "889                              Behr, Mr. Karl Howell    male  26.0      0   \n",
       "890                                Dooley, Mr. Patrick    male  32.0      0   \n",
       "\n",
       "     Parch            Ticket     Fare Cabin Embarked  \n",
       "0        0         A/5 21171   7.2500   NaN        S  \n",
       "1        0          PC 17599  71.2833   C85        C  \n",
       "2        0  STON/O2. 3101282   7.9250   NaN        S  \n",
       "3        0            113803  53.1000  C123        S  \n",
       "4        0            373450   8.0500   NaN        S  \n",
       "..     ...               ...      ...   ...      ...  \n",
       "885      5            382652  29.1250   NaN        Q  \n",
       "886      0            211536  13.0000   NaN        S  \n",
       "887      0            112053  30.0000   B42        S  \n",
       "889      0            111369  30.0000  C148        C  \n",
       "890      0            370376   7.7500   NaN        Q  \n",
       "\n",
       "[714 rows x 12 columns]"
      ]
     },
     "execution_count": 82,
     "metadata": {},
     "output_type": "execute_result"
    }
   ],
   "source": [
    "##Drop all rows with NA values under \"Age\"\n",
    "titanic_df = titanic_df.dropna(subset = [\"Age\"])\n",
    "titanic_df"
   ]
  },
  {
   "cell_type": "markdown",
   "id": "9302fb2e",
   "metadata": {},
   "source": [
    "## Question 2"
   ]
  },
  {
   "cell_type": "code",
   "execution_count": 152,
   "id": "7b2c3ee9",
   "metadata": {},
   "outputs": [
    {
     "name": "stderr",
     "output_type": "stream",
     "text": [
      "<ipython-input-152-68f9ce32d86d>:2: SettingWithCopyWarning: \n",
      "A value is trying to be set on a copy of a slice from a DataFrame.\n",
      "Try using .loc[row_indexer,col_indexer] = value instead\n",
      "\n",
      "See the caveats in the documentation: https://pandas.pydata.org/pandas-docs/stable/user_guide/indexing.html#returning-a-view-versus-a-copy\n",
      "  titanic_df[\"NotAlone\"] = 1\n",
      "/Users/jasper_lemberg/opt/anaconda3/lib/python3.8/site-packages/pandas/core/indexing.py:1720: SettingWithCopyWarning: \n",
      "A value is trying to be set on a copy of a slice from a DataFrame.\n",
      "Try using .loc[row_indexer,col_indexer] = value instead\n",
      "\n",
      "See the caveats in the documentation: https://pandas.pydata.org/pandas-docs/stable/user_guide/indexing.html#returning-a-view-versus-a-copy\n",
      "  self._setitem_single_column(loc, value, pi)\n"
     ]
    },
    {
     "data": {
      "text/html": [
       "<div>\n",
       "<style scoped>\n",
       "    .dataframe tbody tr th:only-of-type {\n",
       "        vertical-align: middle;\n",
       "    }\n",
       "\n",
       "    .dataframe tbody tr th {\n",
       "        vertical-align: top;\n",
       "    }\n",
       "\n",
       "    .dataframe thead th {\n",
       "        text-align: right;\n",
       "    }\n",
       "</style>\n",
       "<table border=\"1\" class=\"dataframe\">\n",
       "  <thead>\n",
       "    <tr style=\"text-align: right;\">\n",
       "      <th></th>\n",
       "      <th>PassengerId</th>\n",
       "      <th>Survived</th>\n",
       "      <th>Pclass</th>\n",
       "      <th>Name</th>\n",
       "      <th>Sex</th>\n",
       "      <th>Age</th>\n",
       "      <th>SibSp</th>\n",
       "      <th>Parch</th>\n",
       "      <th>Ticket</th>\n",
       "      <th>Fare</th>\n",
       "      <th>Cabin</th>\n",
       "      <th>Embarked</th>\n",
       "      <th>NotAlone</th>\n",
       "    </tr>\n",
       "  </thead>\n",
       "  <tbody>\n",
       "    <tr>\n",
       "      <th>0</th>\n",
       "      <td>1</td>\n",
       "      <td>0</td>\n",
       "      <td>3</td>\n",
       "      <td>Braund, Mr. Owen Harris</td>\n",
       "      <td>male</td>\n",
       "      <td>22.0</td>\n",
       "      <td>1</td>\n",
       "      <td>0</td>\n",
       "      <td>A/5 21171</td>\n",
       "      <td>7.2500</td>\n",
       "      <td>NaN</td>\n",
       "      <td>S</td>\n",
       "      <td>1</td>\n",
       "    </tr>\n",
       "    <tr>\n",
       "      <th>1</th>\n",
       "      <td>2</td>\n",
       "      <td>1</td>\n",
       "      <td>1</td>\n",
       "      <td>Cumings, Mrs. John Bradley (Florence Briggs Th...</td>\n",
       "      <td>female</td>\n",
       "      <td>38.0</td>\n",
       "      <td>1</td>\n",
       "      <td>0</td>\n",
       "      <td>PC 17599</td>\n",
       "      <td>71.2833</td>\n",
       "      <td>C85</td>\n",
       "      <td>C</td>\n",
       "      <td>1</td>\n",
       "    </tr>\n",
       "    <tr>\n",
       "      <th>2</th>\n",
       "      <td>3</td>\n",
       "      <td>1</td>\n",
       "      <td>3</td>\n",
       "      <td>Heikkinen, Miss. Laina</td>\n",
       "      <td>female</td>\n",
       "      <td>26.0</td>\n",
       "      <td>0</td>\n",
       "      <td>0</td>\n",
       "      <td>STON/O2. 3101282</td>\n",
       "      <td>7.9250</td>\n",
       "      <td>NaN</td>\n",
       "      <td>S</td>\n",
       "      <td>0</td>\n",
       "    </tr>\n",
       "    <tr>\n",
       "      <th>3</th>\n",
       "      <td>4</td>\n",
       "      <td>1</td>\n",
       "      <td>1</td>\n",
       "      <td>Futrelle, Mrs. Jacques Heath (Lily May Peel)</td>\n",
       "      <td>female</td>\n",
       "      <td>35.0</td>\n",
       "      <td>1</td>\n",
       "      <td>0</td>\n",
       "      <td>113803</td>\n",
       "      <td>53.1000</td>\n",
       "      <td>C123</td>\n",
       "      <td>S</td>\n",
       "      <td>1</td>\n",
       "    </tr>\n",
       "    <tr>\n",
       "      <th>4</th>\n",
       "      <td>5</td>\n",
       "      <td>0</td>\n",
       "      <td>3</td>\n",
       "      <td>Allen, Mr. William Henry</td>\n",
       "      <td>male</td>\n",
       "      <td>35.0</td>\n",
       "      <td>0</td>\n",
       "      <td>0</td>\n",
       "      <td>373450</td>\n",
       "      <td>8.0500</td>\n",
       "      <td>NaN</td>\n",
       "      <td>S</td>\n",
       "      <td>0</td>\n",
       "    </tr>\n",
       "    <tr>\n",
       "      <th>6</th>\n",
       "      <td>7</td>\n",
       "      <td>0</td>\n",
       "      <td>1</td>\n",
       "      <td>McCarthy, Mr. Timothy J</td>\n",
       "      <td>male</td>\n",
       "      <td>54.0</td>\n",
       "      <td>0</td>\n",
       "      <td>0</td>\n",
       "      <td>17463</td>\n",
       "      <td>51.8625</td>\n",
       "      <td>E46</td>\n",
       "      <td>S</td>\n",
       "      <td>0</td>\n",
       "    </tr>\n",
       "    <tr>\n",
       "      <th>7</th>\n",
       "      <td>8</td>\n",
       "      <td>0</td>\n",
       "      <td>3</td>\n",
       "      <td>Palsson, Master. Gosta Leonard</td>\n",
       "      <td>male</td>\n",
       "      <td>2.0</td>\n",
       "      <td>3</td>\n",
       "      <td>1</td>\n",
       "      <td>349909</td>\n",
       "      <td>21.0750</td>\n",
       "      <td>NaN</td>\n",
       "      <td>S</td>\n",
       "      <td>1</td>\n",
       "    </tr>\n",
       "    <tr>\n",
       "      <th>8</th>\n",
       "      <td>9</td>\n",
       "      <td>1</td>\n",
       "      <td>3</td>\n",
       "      <td>Johnson, Mrs. Oscar W (Elisabeth Vilhelmina Berg)</td>\n",
       "      <td>female</td>\n",
       "      <td>27.0</td>\n",
       "      <td>0</td>\n",
       "      <td>2</td>\n",
       "      <td>347742</td>\n",
       "      <td>11.1333</td>\n",
       "      <td>NaN</td>\n",
       "      <td>S</td>\n",
       "      <td>1</td>\n",
       "    </tr>\n",
       "    <tr>\n",
       "      <th>9</th>\n",
       "      <td>10</td>\n",
       "      <td>1</td>\n",
       "      <td>2</td>\n",
       "      <td>Nasser, Mrs. Nicholas (Adele Achem)</td>\n",
       "      <td>female</td>\n",
       "      <td>14.0</td>\n",
       "      <td>1</td>\n",
       "      <td>0</td>\n",
       "      <td>237736</td>\n",
       "      <td>30.0708</td>\n",
       "      <td>NaN</td>\n",
       "      <td>C</td>\n",
       "      <td>1</td>\n",
       "    </tr>\n",
       "    <tr>\n",
       "      <th>10</th>\n",
       "      <td>11</td>\n",
       "      <td>1</td>\n",
       "      <td>3</td>\n",
       "      <td>Sandstrom, Miss. Marguerite Rut</td>\n",
       "      <td>female</td>\n",
       "      <td>4.0</td>\n",
       "      <td>1</td>\n",
       "      <td>1</td>\n",
       "      <td>PP 9549</td>\n",
       "      <td>16.7000</td>\n",
       "      <td>G6</td>\n",
       "      <td>S</td>\n",
       "      <td>1</td>\n",
       "    </tr>\n",
       "    <tr>\n",
       "      <th>11</th>\n",
       "      <td>12</td>\n",
       "      <td>1</td>\n",
       "      <td>1</td>\n",
       "      <td>Bonnell, Miss. Elizabeth</td>\n",
       "      <td>female</td>\n",
       "      <td>58.0</td>\n",
       "      <td>0</td>\n",
       "      <td>0</td>\n",
       "      <td>113783</td>\n",
       "      <td>26.5500</td>\n",
       "      <td>C103</td>\n",
       "      <td>S</td>\n",
       "      <td>0</td>\n",
       "    </tr>\n",
       "    <tr>\n",
       "      <th>12</th>\n",
       "      <td>13</td>\n",
       "      <td>0</td>\n",
       "      <td>3</td>\n",
       "      <td>Saundercock, Mr. William Henry</td>\n",
       "      <td>male</td>\n",
       "      <td>20.0</td>\n",
       "      <td>0</td>\n",
       "      <td>0</td>\n",
       "      <td>A/5. 2151</td>\n",
       "      <td>8.0500</td>\n",
       "      <td>NaN</td>\n",
       "      <td>S</td>\n",
       "      <td>0</td>\n",
       "    </tr>\n",
       "    <tr>\n",
       "      <th>13</th>\n",
       "      <td>14</td>\n",
       "      <td>0</td>\n",
       "      <td>3</td>\n",
       "      <td>Andersson, Mr. Anders Johan</td>\n",
       "      <td>male</td>\n",
       "      <td>39.0</td>\n",
       "      <td>1</td>\n",
       "      <td>5</td>\n",
       "      <td>347082</td>\n",
       "      <td>31.2750</td>\n",
       "      <td>NaN</td>\n",
       "      <td>S</td>\n",
       "      <td>1</td>\n",
       "    </tr>\n",
       "    <tr>\n",
       "      <th>14</th>\n",
       "      <td>15</td>\n",
       "      <td>0</td>\n",
       "      <td>3</td>\n",
       "      <td>Vestrom, Miss. Hulda Amanda Adolfina</td>\n",
       "      <td>female</td>\n",
       "      <td>14.0</td>\n",
       "      <td>0</td>\n",
       "      <td>0</td>\n",
       "      <td>350406</td>\n",
       "      <td>7.8542</td>\n",
       "      <td>NaN</td>\n",
       "      <td>S</td>\n",
       "      <td>0</td>\n",
       "    </tr>\n",
       "  </tbody>\n",
       "</table>\n",
       "</div>"
      ],
      "text/plain": [
       "    PassengerId  Survived  Pclass  \\\n",
       "0             1         0       3   \n",
       "1             2         1       1   \n",
       "2             3         1       3   \n",
       "3             4         1       1   \n",
       "4             5         0       3   \n",
       "6             7         0       1   \n",
       "7             8         0       3   \n",
       "8             9         1       3   \n",
       "9            10         1       2   \n",
       "10           11         1       3   \n",
       "11           12         1       1   \n",
       "12           13         0       3   \n",
       "13           14         0       3   \n",
       "14           15         0       3   \n",
       "\n",
       "                                                 Name     Sex   Age  SibSp  \\\n",
       "0                             Braund, Mr. Owen Harris    male  22.0      1   \n",
       "1   Cumings, Mrs. John Bradley (Florence Briggs Th...  female  38.0      1   \n",
       "2                              Heikkinen, Miss. Laina  female  26.0      0   \n",
       "3        Futrelle, Mrs. Jacques Heath (Lily May Peel)  female  35.0      1   \n",
       "4                            Allen, Mr. William Henry    male  35.0      0   \n",
       "6                             McCarthy, Mr. Timothy J    male  54.0      0   \n",
       "7                      Palsson, Master. Gosta Leonard    male   2.0      3   \n",
       "8   Johnson, Mrs. Oscar W (Elisabeth Vilhelmina Berg)  female  27.0      0   \n",
       "9                 Nasser, Mrs. Nicholas (Adele Achem)  female  14.0      1   \n",
       "10                    Sandstrom, Miss. Marguerite Rut  female   4.0      1   \n",
       "11                           Bonnell, Miss. Elizabeth  female  58.0      0   \n",
       "12                     Saundercock, Mr. William Henry    male  20.0      0   \n",
       "13                        Andersson, Mr. Anders Johan    male  39.0      1   \n",
       "14               Vestrom, Miss. Hulda Amanda Adolfina  female  14.0      0   \n",
       "\n",
       "    Parch            Ticket     Fare Cabin Embarked  NotAlone  \n",
       "0       0         A/5 21171   7.2500   NaN        S         1  \n",
       "1       0          PC 17599  71.2833   C85        C         1  \n",
       "2       0  STON/O2. 3101282   7.9250   NaN        S         0  \n",
       "3       0            113803  53.1000  C123        S         1  \n",
       "4       0            373450   8.0500   NaN        S         0  \n",
       "6       0             17463  51.8625   E46        S         0  \n",
       "7       1            349909  21.0750   NaN        S         1  \n",
       "8       2            347742  11.1333   NaN        S         1  \n",
       "9       0            237736  30.0708   NaN        C         1  \n",
       "10      1           PP 9549  16.7000    G6        S         1  \n",
       "11      0            113783  26.5500  C103        S         0  \n",
       "12      0         A/5. 2151   8.0500   NaN        S         0  \n",
       "13      5            347082  31.2750   NaN        S         1  \n",
       "14      0            350406   7.8542   NaN        S         0  "
      ]
     },
     "execution_count": 152,
     "metadata": {},
     "output_type": "execute_result"
    }
   ],
   "source": [
    "##Create a new column called NotAlone\n",
    "titanic_df[\"NotAlone\"] = 1\n",
    "##Fill said column with 1s unless SibSp = 0 and Parch = 0\n",
    "for c in titanic_df.index:\n",
    "    if(titanic_df.loc[c, \"SibSp\"] == 0 and titanic_df.loc[c, \"Parch\"] == 0):\n",
    "        titanic_df.loc[c, \"NotAlone\"] = 0\n",
    "titanic_df.head(14)"
   ]
  },
  {
   "cell_type": "markdown",
   "id": "5a0dad86",
   "metadata": {},
   "source": [
    "# Part II: Mean and Median "
   ]
  },
  {
   "cell_type": "markdown",
   "id": "a8be81a1",
   "metadata": {},
   "source": [
    "## Question 3"
   ]
  },
  {
   "cell_type": "code",
   "execution_count": 84,
   "id": "61cd50aa",
   "metadata": {},
   "outputs": [
    {
     "data": {
      "text/plain": [
       "186"
      ]
     },
     "execution_count": 84,
     "metadata": {},
     "output_type": "execute_result"
    }
   ],
   "source": [
    "##Split up the data by passenger class\n",
    "\n",
    "##Number of first class passengers\n",
    "titanic_df_passenger_class_1 = titanic_df[titanic_df[\"Pclass\"] == 1]\n",
    "len(titanic_df_passenger_class_1)\n",
    "##186 passengers"
   ]
  },
  {
   "cell_type": "code",
   "execution_count": 85,
   "id": "ecfe161f",
   "metadata": {},
   "outputs": [
    {
     "data": {
      "text/plain": [
       "173"
      ]
     },
     "execution_count": 85,
     "metadata": {},
     "output_type": "execute_result"
    }
   ],
   "source": [
    "##Number of second class passengers\n",
    "titanic_df_passenger_class_2 = titanic_df[titanic_df[\"Pclass\"] == 2]\n",
    "len(titanic_df_passenger_class_2)\n",
    "##173 passengers"
   ]
  },
  {
   "cell_type": "code",
   "execution_count": 86,
   "id": "49bfe9f4",
   "metadata": {},
   "outputs": [
    {
     "data": {
      "text/plain": [
       "355"
      ]
     },
     "execution_count": 86,
     "metadata": {},
     "output_type": "execute_result"
    }
   ],
   "source": [
    "##Number of third class passengers\n",
    "titanic_df_passenger_class_3 = titanic_df[titanic_df[\"Pclass\"] == 3]\n",
    "len(titanic_df_passenger_class_3)\n",
    "##355 passengers (largest)"
   ]
  },
  {
   "cell_type": "code",
   "execution_count": 87,
   "id": "21bf789b",
   "metadata": {},
   "outputs": [
    {
     "data": {
      "text/plain": [
       "38.233440860215055"
      ]
     },
     "execution_count": 87,
     "metadata": {},
     "output_type": "execute_result"
    }
   ],
   "source": [
    "##Calculate means and medians for Age and Fare columns of above datasets\n",
    "\n",
    "##Mean age for first class\n",
    "titanic_df_passenger_class_1[\"Age\"].mean()\n",
    "##38.233440860215055 (highest)"
   ]
  },
  {
   "cell_type": "code",
   "execution_count": 88,
   "id": "e33b63c4",
   "metadata": {},
   "outputs": [
    {
     "data": {
      "text/plain": [
       "37.0"
      ]
     },
     "execution_count": 88,
     "metadata": {},
     "output_type": "execute_result"
    }
   ],
   "source": [
    "##Median age for first class\n",
    "titanic_df_passenger_class_1[\"Age\"].median()\n",
    "##37.0 (highest)"
   ]
  },
  {
   "cell_type": "code",
   "execution_count": 89,
   "id": "a39383ee",
   "metadata": {},
   "outputs": [
    {
     "data": {
      "text/plain": [
       "87.96158225806447"
      ]
     },
     "execution_count": 89,
     "metadata": {},
     "output_type": "execute_result"
    }
   ],
   "source": [
    "##Mean fare for first class\n",
    "titanic_df_passenger_class_1[\"Fare\"].mean()\n",
    "##87.96158225806447 (highest)"
   ]
  },
  {
   "cell_type": "code",
   "execution_count": 90,
   "id": "e66f40cb",
   "metadata": {},
   "outputs": [
    {
     "data": {
      "text/plain": [
       "69.3"
      ]
     },
     "execution_count": 90,
     "metadata": {},
     "output_type": "execute_result"
    }
   ],
   "source": [
    "##Median fare for first class\n",
    "titanic_df_passenger_class_1[\"Fare\"].median()\n",
    "##69.3 (highest)"
   ]
  },
  {
   "cell_type": "code",
   "execution_count": 91,
   "id": "17e0eced",
   "metadata": {},
   "outputs": [
    {
     "data": {
      "text/plain": [
       "29.87763005780347"
      ]
     },
     "execution_count": 91,
     "metadata": {},
     "output_type": "execute_result"
    }
   ],
   "source": [
    "##Mean age for second class\n",
    "titanic_df_passenger_class_2[\"Age\"].mean()\n",
    "##29.87763005780347"
   ]
  },
  {
   "cell_type": "code",
   "execution_count": 92,
   "id": "0ce26620",
   "metadata": {},
   "outputs": [
    {
     "data": {
      "text/plain": [
       "29.0"
      ]
     },
     "execution_count": 92,
     "metadata": {},
     "output_type": "execute_result"
    }
   ],
   "source": [
    "##Median age for second class\n",
    "titanic_df_passenger_class_2[\"Age\"].median()\n",
    "##29.0"
   ]
  },
  {
   "cell_type": "code",
   "execution_count": 93,
   "id": "1cf67165",
   "metadata": {},
   "outputs": [
    {
     "data": {
      "text/plain": [
       "21.47155606936416"
      ]
     },
     "execution_count": 93,
     "metadata": {},
     "output_type": "execute_result"
    }
   ],
   "source": [
    "##Mean fare for second class\n",
    "titanic_df_passenger_class_2[\"Fare\"].mean()\n",
    "##21.47155606936416"
   ]
  },
  {
   "cell_type": "code",
   "execution_count": 94,
   "id": "00848f9f",
   "metadata": {},
   "outputs": [
    {
     "data": {
      "text/plain": [
       "15.0458"
      ]
     },
     "execution_count": 94,
     "metadata": {},
     "output_type": "execute_result"
    }
   ],
   "source": [
    "##Median fare for second class\n",
    "titanic_df_passenger_class_2[\"Fare\"].median()\n",
    "##15.0458"
   ]
  },
  {
   "cell_type": "code",
   "execution_count": 95,
   "id": "901a768f",
   "metadata": {},
   "outputs": [
    {
     "data": {
      "text/plain": [
       "25.14061971830986"
      ]
     },
     "execution_count": 95,
     "metadata": {},
     "output_type": "execute_result"
    }
   ],
   "source": [
    "##Mean age for third class\n",
    "titanic_df_passenger_class_3[\"Age\"].mean()\n",
    "##25.14061971830986 (lowest)"
   ]
  },
  {
   "cell_type": "code",
   "execution_count": 96,
   "id": "be8e73e0",
   "metadata": {},
   "outputs": [
    {
     "data": {
      "text/plain": [
       "24.0"
      ]
     },
     "execution_count": 96,
     "metadata": {},
     "output_type": "execute_result"
    }
   ],
   "source": [
    "##Median age for third class\n",
    "titanic_df_passenger_class_3[\"Age\"].median()\n",
    "##24.0 (lowest)"
   ]
  },
  {
   "cell_type": "code",
   "execution_count": 97,
   "id": "c95990c1",
   "metadata": {},
   "outputs": [
    {
     "data": {
      "text/plain": [
       "13.229435211267623"
      ]
     },
     "execution_count": 97,
     "metadata": {},
     "output_type": "execute_result"
    }
   ],
   "source": [
    "##Mean fare for third class\n",
    "titanic_df_passenger_class_3[\"Fare\"].mean()\n",
    "##13.229435211267623 (lowest)"
   ]
  },
  {
   "cell_type": "code",
   "execution_count": 98,
   "id": "31e03353",
   "metadata": {},
   "outputs": [
    {
     "data": {
      "text/plain": [
       "8.05"
      ]
     },
     "execution_count": 98,
     "metadata": {},
     "output_type": "execute_result"
    }
   ],
   "source": [
    "##Median fare for third class\n",
    "titanic_df_passenger_class_3[\"Fare\"].median()\n",
    "##8.05 (lowest)"
   ]
  },
  {
   "cell_type": "markdown",
   "id": "078af01d",
   "metadata": {},
   "source": [
    "## Question 4"
   ]
  },
  {
   "cell_type": "code",
   "execution_count": 99,
   "id": "e6c02218",
   "metadata": {},
   "outputs": [
    {
     "data": {
      "text/plain": [
       "290"
      ]
     },
     "execution_count": 99,
     "metadata": {},
     "output_type": "execute_result"
    }
   ],
   "source": [
    "##Split up the data again, but by who survived\n",
    "\n",
    "##Number of passengers that survived\n",
    "titanic_df_survived = titanic_df[titanic_df[\"Survived\"] == 1]\n",
    "len(titanic_df[titanic_df[\"Survived\"] == 1])\n",
    "##290 passengers"
   ]
  },
  {
   "cell_type": "code",
   "execution_count": 100,
   "id": "c8292b9e",
   "metadata": {},
   "outputs": [
    {
     "data": {
      "text/plain": [
       "424"
      ]
     },
     "execution_count": 100,
     "metadata": {},
     "output_type": "execute_result"
    }
   ],
   "source": [
    "##Number of passengers that did not survive\n",
    "titanic_df_not_survived = titanic_df[titanic_df[\"Survived\"] == 0]\n",
    "len(titanic_df[titanic_df[\"Survived\"] == 0])\n",
    "##424 passengers"
   ]
  },
  {
   "cell_type": "code",
   "execution_count": 101,
   "id": "a8dbd451",
   "metadata": {},
   "outputs": [
    {
     "data": {
      "text/plain": [
       "122"
      ]
     },
     "execution_count": 101,
     "metadata": {},
     "output_type": "execute_result"
    }
   ],
   "source": [
    "##Number of first class passengers that survived\n",
    "len(titanic_df_passenger_class_1[titanic_df_passenger_class_1[\"Survived\"] == 1])\n",
    "##122 passengers"
   ]
  },
  {
   "cell_type": "code",
   "execution_count": 102,
   "id": "be895a83",
   "metadata": {},
   "outputs": [
    {
     "data": {
      "text/plain": [
       "64"
      ]
     },
     "execution_count": 102,
     "metadata": {},
     "output_type": "execute_result"
    }
   ],
   "source": [
    "##Number of first class passengers that did not survive\n",
    "len(titanic_df_passenger_class_1[titanic_df_passenger_class_1[\"Survived\"] == 0])\n",
    "##64 passengers"
   ]
  },
  {
   "cell_type": "code",
   "execution_count": 103,
   "id": "dfda4d40",
   "metadata": {},
   "outputs": [
    {
     "data": {
      "text/plain": [
       "83"
      ]
     },
     "execution_count": 103,
     "metadata": {},
     "output_type": "execute_result"
    }
   ],
   "source": [
    "##Number of second class passengers that survived\n",
    "len(titanic_df_passenger_class_2[titanic_df_passenger_class_2[\"Survived\"] == 1])\n",
    "##83 passengers"
   ]
  },
  {
   "cell_type": "code",
   "execution_count": 104,
   "id": "72361ada",
   "metadata": {},
   "outputs": [
    {
     "data": {
      "text/plain": [
       "90"
      ]
     },
     "execution_count": 104,
     "metadata": {},
     "output_type": "execute_result"
    }
   ],
   "source": [
    "##Number of second class passengers that did not survive\n",
    "len(titanic_df_passenger_class_2[titanic_df_passenger_class_2[\"Survived\"] == 0])\n",
    "##90 passengers"
   ]
  },
  {
   "cell_type": "code",
   "execution_count": 105,
   "id": "9f2a981f",
   "metadata": {},
   "outputs": [
    {
     "data": {
      "text/plain": [
       "85"
      ]
     },
     "execution_count": 105,
     "metadata": {},
     "output_type": "execute_result"
    }
   ],
   "source": [
    "##Number of third class passengers that survived\n",
    "len(titanic_df_passenger_class_3[titanic_df_passenger_class_3[\"Survived\"] == 1])\n",
    "##85 passengers"
   ]
  },
  {
   "cell_type": "code",
   "execution_count": 106,
   "id": "4ceb9f4a",
   "metadata": {},
   "outputs": [
    {
     "data": {
      "text/plain": [
       "270"
      ]
     },
     "execution_count": 106,
     "metadata": {},
     "output_type": "execute_result"
    }
   ],
   "source": [
    "##Number of third class passengers that did not survive\n",
    "len(titanic_df_passenger_class_3[titanic_df_passenger_class_3[\"Survived\"] == 0])\n",
    "##270 passengers"
   ]
  },
  {
   "cell_type": "markdown",
   "id": "73713d16",
   "metadata": {},
   "source": [
    "# Part III: Bivariate Statistics and Variance"
   ]
  },
  {
   "cell_type": "markdown",
   "id": "fded942a",
   "metadata": {},
   "source": [
    "## Question 5"
   ]
  },
  {
   "cell_type": "code",
   "execution_count": 107,
   "id": "9291b774",
   "metadata": {},
   "outputs": [],
   "source": [
    "##Calculate a column's variance\n",
    "def cal_var(col):\n",
    "    numerator = 0\n",
    "    for c in col:\n",
    "        numerator += (c - col.mean())**2\n",
    "    return (numerator/len(col))"
   ]
  },
  {
   "cell_type": "code",
   "execution_count": 108,
   "id": "aa0d585a",
   "metadata": {},
   "outputs": [],
   "source": [
    "##Calculate a column's standard deviation\n",
    "def cal_std_dev(col):\n",
    "    return math.sqrt(cal_var(col))"
   ]
  },
  {
   "cell_type": "code",
   "execution_count": 109,
   "id": "24e1a427",
   "metadata": {},
   "outputs": [],
   "source": [
    "##Calculate two column's Pearson's correlation\n",
    "def cal_corr(col_1, col_2):\n",
    "    x_vals = 0\n",
    "    y_vals = 0\n",
    "    numerator = 0\n",
    "    for c, c2 in zip(col_1, col_2):\n",
    "        x_vals += (c - col_1.mean())**2\n",
    "        y_vals += (c2 - col_2.mean())**2\n",
    "        numerator += (c - col_1.mean()) * (c2 - col_2.mean())\n",
    "    return (numerator/sqrt(x_vals * y_vals))"
   ]
  },
  {
   "cell_type": "markdown",
   "id": "6c49c7cb",
   "metadata": {},
   "source": [
    "## Question 6"
   ]
  },
  {
   "cell_type": "code",
   "execution_count": 110,
   "id": "269c4fec",
   "metadata": {},
   "outputs": [
    {
     "data": {
      "text/html": [
       "<div>\n",
       "<style scoped>\n",
       "    .dataframe tbody tr th:only-of-type {\n",
       "        vertical-align: middle;\n",
       "    }\n",
       "\n",
       "    .dataframe tbody tr th {\n",
       "        vertical-align: top;\n",
       "    }\n",
       "\n",
       "    .dataframe thead th {\n",
       "        text-align: right;\n",
       "    }\n",
       "</style>\n",
       "<table border=\"1\" class=\"dataframe\">\n",
       "  <thead>\n",
       "    <tr style=\"text-align: right;\">\n",
       "      <th></th>\n",
       "      <th>Survived</th>\n",
       "      <th>Age</th>\n",
       "      <th>SibSp</th>\n",
       "      <th>Parch</th>\n",
       "      <th>Fare</th>\n",
       "      <th>NotAlone</th>\n",
       "    </tr>\n",
       "  </thead>\n",
       "  <tbody>\n",
       "    <tr>\n",
       "      <th>0</th>\n",
       "      <td>0</td>\n",
       "      <td>22.0</td>\n",
       "      <td>1</td>\n",
       "      <td>0</td>\n",
       "      <td>7.2500</td>\n",
       "      <td>1</td>\n",
       "    </tr>\n",
       "    <tr>\n",
       "      <th>1</th>\n",
       "      <td>1</td>\n",
       "      <td>38.0</td>\n",
       "      <td>1</td>\n",
       "      <td>0</td>\n",
       "      <td>71.2833</td>\n",
       "      <td>1</td>\n",
       "    </tr>\n",
       "    <tr>\n",
       "      <th>2</th>\n",
       "      <td>1</td>\n",
       "      <td>26.0</td>\n",
       "      <td>0</td>\n",
       "      <td>0</td>\n",
       "      <td>7.9250</td>\n",
       "      <td>0</td>\n",
       "    </tr>\n",
       "    <tr>\n",
       "      <th>3</th>\n",
       "      <td>1</td>\n",
       "      <td>35.0</td>\n",
       "      <td>1</td>\n",
       "      <td>0</td>\n",
       "      <td>53.1000</td>\n",
       "      <td>1</td>\n",
       "    </tr>\n",
       "    <tr>\n",
       "      <th>4</th>\n",
       "      <td>0</td>\n",
       "      <td>35.0</td>\n",
       "      <td>0</td>\n",
       "      <td>0</td>\n",
       "      <td>8.0500</td>\n",
       "      <td>0</td>\n",
       "    </tr>\n",
       "    <tr>\n",
       "      <th>...</th>\n",
       "      <td>...</td>\n",
       "      <td>...</td>\n",
       "      <td>...</td>\n",
       "      <td>...</td>\n",
       "      <td>...</td>\n",
       "      <td>...</td>\n",
       "    </tr>\n",
       "    <tr>\n",
       "      <th>885</th>\n",
       "      <td>0</td>\n",
       "      <td>39.0</td>\n",
       "      <td>0</td>\n",
       "      <td>5</td>\n",
       "      <td>29.1250</td>\n",
       "      <td>1</td>\n",
       "    </tr>\n",
       "    <tr>\n",
       "      <th>886</th>\n",
       "      <td>0</td>\n",
       "      <td>27.0</td>\n",
       "      <td>0</td>\n",
       "      <td>0</td>\n",
       "      <td>13.0000</td>\n",
       "      <td>0</td>\n",
       "    </tr>\n",
       "    <tr>\n",
       "      <th>887</th>\n",
       "      <td>1</td>\n",
       "      <td>19.0</td>\n",
       "      <td>0</td>\n",
       "      <td>0</td>\n",
       "      <td>30.0000</td>\n",
       "      <td>0</td>\n",
       "    </tr>\n",
       "    <tr>\n",
       "      <th>889</th>\n",
       "      <td>1</td>\n",
       "      <td>26.0</td>\n",
       "      <td>0</td>\n",
       "      <td>0</td>\n",
       "      <td>30.0000</td>\n",
       "      <td>0</td>\n",
       "    </tr>\n",
       "    <tr>\n",
       "      <th>890</th>\n",
       "      <td>0</td>\n",
       "      <td>32.0</td>\n",
       "      <td>0</td>\n",
       "      <td>0</td>\n",
       "      <td>7.7500</td>\n",
       "      <td>0</td>\n",
       "    </tr>\n",
       "  </tbody>\n",
       "</table>\n",
       "<p>714 rows × 6 columns</p>\n",
       "</div>"
      ],
      "text/plain": [
       "     Survived   Age  SibSp  Parch     Fare  NotAlone\n",
       "0           0  22.0      1      0   7.2500         1\n",
       "1           1  38.0      1      0  71.2833         1\n",
       "2           1  26.0      0      0   7.9250         0\n",
       "3           1  35.0      1      0  53.1000         1\n",
       "4           0  35.0      0      0   8.0500         0\n",
       "..        ...   ...    ...    ...      ...       ...\n",
       "885         0  39.0      0      5  29.1250         1\n",
       "886         0  27.0      0      0  13.0000         0\n",
       "887         1  19.0      0      0  30.0000         0\n",
       "889         1  26.0      0      0  30.0000         0\n",
       "890         0  32.0      0      0   7.7500         0\n",
       "\n",
       "[714 rows x 6 columns]"
      ]
     },
     "execution_count": 110,
     "metadata": {},
     "output_type": "execute_result"
    }
   ],
   "source": [
    "##Create new dataset with only the columns used for the correlation matrix\n",
    "titanic_df_corr = titanic_df[[\"Survived\", \"Age\", \"SibSp\", \"Parch\", \"Fare\", \"NotAlone\"]]\n",
    "titanic_df_corr"
   ]
  },
  {
   "cell_type": "code",
   "execution_count": 111,
   "id": "f6c056bd",
   "metadata": {},
   "outputs": [
    {
     "data": {
      "text/html": [
       "<div>\n",
       "<style scoped>\n",
       "    .dataframe tbody tr th:only-of-type {\n",
       "        vertical-align: middle;\n",
       "    }\n",
       "\n",
       "    .dataframe tbody tr th {\n",
       "        vertical-align: top;\n",
       "    }\n",
       "\n",
       "    .dataframe thead th {\n",
       "        text-align: right;\n",
       "    }\n",
       "</style>\n",
       "<table border=\"1\" class=\"dataframe\">\n",
       "  <thead>\n",
       "    <tr style=\"text-align: right;\">\n",
       "      <th></th>\n",
       "      <th>Survived</th>\n",
       "      <th>Age</th>\n",
       "      <th>SibSp</th>\n",
       "      <th>Parch</th>\n",
       "      <th>Fare</th>\n",
       "      <th>NotAlone</th>\n",
       "    </tr>\n",
       "  </thead>\n",
       "  <tbody>\n",
       "    <tr>\n",
       "      <th>Survived</th>\n",
       "      <td>1.0</td>\n",
       "      <td>-0.077221</td>\n",
       "      <td>-0.017358</td>\n",
       "      <td>0.093317</td>\n",
       "      <td>0.268189</td>\n",
       "      <td>0.19614</td>\n",
       "    </tr>\n",
       "    <tr>\n",
       "      <th>Age</th>\n",
       "      <td>-0.077221</td>\n",
       "      <td>1.0</td>\n",
       "      <td>-0.308247</td>\n",
       "      <td>-0.189119</td>\n",
       "      <td>0.096067</td>\n",
       "      <td>-0.19827</td>\n",
       "    </tr>\n",
       "    <tr>\n",
       "      <th>SibSp</th>\n",
       "      <td>-0.017358</td>\n",
       "      <td>-0.308247</td>\n",
       "      <td>1.0</td>\n",
       "      <td>0.38382</td>\n",
       "      <td>0.138329</td>\n",
       "      <td>0.629818</td>\n",
       "    </tr>\n",
       "    <tr>\n",
       "      <th>Parch</th>\n",
       "      <td>0.093317</td>\n",
       "      <td>-0.189119</td>\n",
       "      <td>0.38382</td>\n",
       "      <td>1.0</td>\n",
       "      <td>0.205119</td>\n",
       "      <td>0.577524</td>\n",
       "    </tr>\n",
       "    <tr>\n",
       "      <th>Fare</th>\n",
       "      <td>0.268189</td>\n",
       "      <td>0.096067</td>\n",
       "      <td>0.138329</td>\n",
       "      <td>0.205119</td>\n",
       "      <td>1.0</td>\n",
       "      <td>0.260136</td>\n",
       "    </tr>\n",
       "    <tr>\n",
       "      <th>NotAlone</th>\n",
       "      <td>0.19614</td>\n",
       "      <td>-0.19827</td>\n",
       "      <td>0.629818</td>\n",
       "      <td>0.577524</td>\n",
       "      <td>0.260136</td>\n",
       "      <td>1.0</td>\n",
       "    </tr>\n",
       "  </tbody>\n",
       "</table>\n",
       "</div>"
      ],
      "text/plain": [
       "          Survived       Age     SibSp     Parch      Fare  NotAlone\n",
       "Survived       1.0 -0.077221 -0.017358  0.093317  0.268189   0.19614\n",
       "Age      -0.077221       1.0 -0.308247 -0.189119  0.096067  -0.19827\n",
       "SibSp    -0.017358 -0.308247       1.0   0.38382  0.138329  0.629818\n",
       "Parch     0.093317 -0.189119   0.38382       1.0  0.205119  0.577524\n",
       "Fare      0.268189  0.096067  0.138329  0.205119       1.0  0.260136\n",
       "NotAlone   0.19614  -0.19827  0.629818  0.577524  0.260136       1.0"
      ]
     },
     "execution_count": 111,
     "metadata": {},
     "output_type": "execute_result"
    }
   ],
   "source": [
    "##Initialize data frame with identical row names and column names. This is essentially the empty correlation matrix\n",
    "titanic_df_corr_mat = pd.DataFrame(columns = [\"Survived\", \"Age\", \"SibSp\", \"Parch\", \"Fare\", \"NotAlone\"], \n",
    "                                  index = [\"Survived\", \"Age\", \"SibSp\", \"Parch\", \"Fare\", \"NotAlone\"])\n",
    "##Assign values to correlation matrix\n",
    "for c in titanic_df_corr_mat.index:\n",
    "    for c2 in titanic_df_corr_mat.columns:\n",
    "        titanic_df_corr_mat.loc[c, c2] = cal_corr(titanic_df_corr[c], titanic_df_corr[c2])\n",
    "titanic_df_corr_mat"
   ]
  },
  {
   "cell_type": "markdown",
   "id": "5df84311",
   "metadata": {},
   "source": [
    "None of the pairs of features have a strong correlation and only one pair has a medium correlation (NotAlone and SibSp). The rest of the pairs have a very weak correlation. "
   ]
  },
  {
   "cell_type": "markdown",
   "id": "fe9ca2e3",
   "metadata": {},
   "source": [
    "## Question 7"
   ]
  },
  {
   "cell_type": "code",
   "execution_count": 112,
   "id": "31c5c147",
   "metadata": {},
   "outputs": [
    {
     "data": {
      "text/plain": [
       "14.516321150817317"
      ]
     },
     "execution_count": 112,
     "metadata": {},
     "output_type": "execute_result"
    }
   ],
   "source": [
    "##Standard deviation of Age\n",
    "cal_std_dev(titanic_df[\"Age\"])\n",
    "##14.516321150817317"
   ]
  },
  {
   "cell_type": "code",
   "execution_count": 113,
   "id": "2c1dd87e",
   "metadata": {},
   "outputs": [
    {
     "data": {
      "text/plain": [
       "52.881858444051744"
      ]
     },
     "execution_count": 113,
     "metadata": {},
     "output_type": "execute_result"
    }
   ],
   "source": [
    "##Standard deviation of Fare\n",
    "cal_std_dev(titanic_df[\"Fare\"])\n",
    "##52.881858444051744"
   ]
  },
  {
   "cell_type": "code",
   "execution_count": 114,
   "id": "184b9094",
   "metadata": {},
   "outputs": [
    {
     "data": {
      "text/html": [
       "<div>\n",
       "<style scoped>\n",
       "    .dataframe tbody tr th:only-of-type {\n",
       "        vertical-align: middle;\n",
       "    }\n",
       "\n",
       "    .dataframe tbody tr th {\n",
       "        vertical-align: top;\n",
       "    }\n",
       "\n",
       "    .dataframe thead th {\n",
       "        text-align: right;\n",
       "    }\n",
       "</style>\n",
       "<table border=\"1\" class=\"dataframe\">\n",
       "  <thead>\n",
       "    <tr style=\"text-align: right;\">\n",
       "      <th></th>\n",
       "      <th>PassengerId</th>\n",
       "      <th>Survived</th>\n",
       "      <th>Pclass</th>\n",
       "      <th>Age</th>\n",
       "      <th>SibSp</th>\n",
       "      <th>Parch</th>\n",
       "      <th>Fare</th>\n",
       "      <th>NotAlone</th>\n",
       "    </tr>\n",
       "  </thead>\n",
       "  <tbody>\n",
       "    <tr>\n",
       "      <th>count</th>\n",
       "      <td>714.000000</td>\n",
       "      <td>714.000000</td>\n",
       "      <td>714.000000</td>\n",
       "      <td>714.000000</td>\n",
       "      <td>714.000000</td>\n",
       "      <td>714.000000</td>\n",
       "      <td>714.000000</td>\n",
       "      <td>714.000000</td>\n",
       "    </tr>\n",
       "    <tr>\n",
       "      <th>mean</th>\n",
       "      <td>448.582633</td>\n",
       "      <td>0.406162</td>\n",
       "      <td>2.236695</td>\n",
       "      <td>29.699118</td>\n",
       "      <td>0.512605</td>\n",
       "      <td>0.431373</td>\n",
       "      <td>34.694514</td>\n",
       "      <td>0.434174</td>\n",
       "    </tr>\n",
       "    <tr>\n",
       "      <th>std</th>\n",
       "      <td>259.119524</td>\n",
       "      <td>0.491460</td>\n",
       "      <td>0.838250</td>\n",
       "      <td>14.526497</td>\n",
       "      <td>0.929783</td>\n",
       "      <td>0.853289</td>\n",
       "      <td>52.918930</td>\n",
       "      <td>0.495995</td>\n",
       "    </tr>\n",
       "    <tr>\n",
       "      <th>min</th>\n",
       "      <td>1.000000</td>\n",
       "      <td>0.000000</td>\n",
       "      <td>1.000000</td>\n",
       "      <td>0.420000</td>\n",
       "      <td>0.000000</td>\n",
       "      <td>0.000000</td>\n",
       "      <td>0.000000</td>\n",
       "      <td>0.000000</td>\n",
       "    </tr>\n",
       "    <tr>\n",
       "      <th>25%</th>\n",
       "      <td>222.250000</td>\n",
       "      <td>0.000000</td>\n",
       "      <td>1.000000</td>\n",
       "      <td>20.125000</td>\n",
       "      <td>0.000000</td>\n",
       "      <td>0.000000</td>\n",
       "      <td>8.050000</td>\n",
       "      <td>0.000000</td>\n",
       "    </tr>\n",
       "    <tr>\n",
       "      <th>50%</th>\n",
       "      <td>445.000000</td>\n",
       "      <td>0.000000</td>\n",
       "      <td>2.000000</td>\n",
       "      <td>28.000000</td>\n",
       "      <td>0.000000</td>\n",
       "      <td>0.000000</td>\n",
       "      <td>15.741700</td>\n",
       "      <td>0.000000</td>\n",
       "    </tr>\n",
       "    <tr>\n",
       "      <th>75%</th>\n",
       "      <td>677.750000</td>\n",
       "      <td>1.000000</td>\n",
       "      <td>3.000000</td>\n",
       "      <td>38.000000</td>\n",
       "      <td>1.000000</td>\n",
       "      <td>1.000000</td>\n",
       "      <td>33.375000</td>\n",
       "      <td>1.000000</td>\n",
       "    </tr>\n",
       "    <tr>\n",
       "      <th>max</th>\n",
       "      <td>891.000000</td>\n",
       "      <td>1.000000</td>\n",
       "      <td>3.000000</td>\n",
       "      <td>80.000000</td>\n",
       "      <td>5.000000</td>\n",
       "      <td>6.000000</td>\n",
       "      <td>512.329200</td>\n",
       "      <td>1.000000</td>\n",
       "    </tr>\n",
       "  </tbody>\n",
       "</table>\n",
       "</div>"
      ],
      "text/plain": [
       "       PassengerId    Survived      Pclass         Age       SibSp  \\\n",
       "count   714.000000  714.000000  714.000000  714.000000  714.000000   \n",
       "mean    448.582633    0.406162    2.236695   29.699118    0.512605   \n",
       "std     259.119524    0.491460    0.838250   14.526497    0.929783   \n",
       "min       1.000000    0.000000    1.000000    0.420000    0.000000   \n",
       "25%     222.250000    0.000000    1.000000   20.125000    0.000000   \n",
       "50%     445.000000    0.000000    2.000000   28.000000    0.000000   \n",
       "75%     677.750000    1.000000    3.000000   38.000000    1.000000   \n",
       "max     891.000000    1.000000    3.000000   80.000000    5.000000   \n",
       "\n",
       "            Parch        Fare    NotAlone  \n",
       "count  714.000000  714.000000  714.000000  \n",
       "mean     0.431373   34.694514    0.434174  \n",
       "std      0.853289   52.918930    0.495995  \n",
       "min      0.000000    0.000000    0.000000  \n",
       "25%      0.000000    8.050000    0.000000  \n",
       "50%      0.000000   15.741700    0.000000  \n",
       "75%      1.000000   33.375000    1.000000  \n",
       "max      6.000000  512.329200    1.000000  "
      ]
     },
     "execution_count": 114,
     "metadata": {},
     "output_type": "execute_result"
    }
   ],
   "source": [
    "##Find values for first and third quartiles\n",
    "titanic_df.describe()"
   ]
  },
  {
   "cell_type": "code",
   "execution_count": 115,
   "id": "c4556409",
   "metadata": {},
   "outputs": [
    {
     "data": {
      "text/plain": [
       "17.875"
      ]
     },
     "execution_count": 115,
     "metadata": {},
     "output_type": "execute_result"
    }
   ],
   "source": [
    "##IQR for Age\n",
    "38 - 20.125000\n",
    "##17.875"
   ]
  },
  {
   "cell_type": "code",
   "execution_count": 116,
   "id": "86b86586",
   "metadata": {},
   "outputs": [
    {
     "data": {
      "text/plain": [
       "25.325"
      ]
     },
     "execution_count": 116,
     "metadata": {},
     "output_type": "execute_result"
    }
   ],
   "source": [
    "##IQR for Fare\n",
    "33.375000 - 8.050000\n",
    "##25.325"
   ]
  },
  {
   "cell_type": "markdown",
   "id": "eab0d3de",
   "metadata": {},
   "source": [
    "Because both the standard deviation and the interquartile range are fairly large, the age data must be spread out. This makes sense because while the median age is 28 years old, the maximum is 80 years old and the minimum is less than 1 year old. Considering the fact that the mean age is 29.699118, whereas the mean age is 28, it is evident that most of the observations lie below the mean. This makes sense because outliers heavily influence the mean and the maximum is very far away from the rest of the data. "
   ]
  },
  {
   "cell_type": "markdown",
   "id": "c52be03b",
   "metadata": {},
   "source": [
    "# Part IV: Conditional Probabilities"
   ]
  },
  {
   "cell_type": "markdown",
   "id": "759e60c4",
   "metadata": {},
   "source": [
    "## Question 8"
   ]
  },
  {
   "cell_type": "code",
   "execution_count": 117,
   "id": "c30f4d7a",
   "metadata": {},
   "outputs": [],
   "source": [
    "##Initialize dataframes of just the females and the males on the boat\n",
    "titanic_df_female = titanic_df.loc[titanic_df[\"Sex\"] == \"female\"]\n",
    "titanic_df_male = titanic_df.loc[titanic_df[\"Sex\"] == \"male\"]\n",
    "\n",
    "##Now adding the classes to the two dataframes (so now there are six separate dataframes)\n",
    "titanic_df_female_c1 = titanic_df_female.loc[titanic_df[\"Pclass\"] == 1]\n",
    "titanic_df_female_c2 = titanic_df_female.loc[titanic_df[\"Pclass\"] == 2]\n",
    "titanic_df_female_c3 = titanic_df_female.loc[titanic_df[\"Pclass\"] == 3]\n",
    "\n",
    "titanic_df_male_c1 = titanic_df_male.loc[titanic_df[\"Pclass\"] == 1]\n",
    "titanic_df_male_c2 = titanic_df_male.loc[titanic_df[\"Pclass\"] == 2]\n",
    "titanic_df_male_c3 = titanic_df_male.loc[titanic_df[\"Pclass\"] == 3]"
   ]
  },
  {
   "cell_type": "code",
   "execution_count": 118,
   "id": "e2fbc48e",
   "metadata": {},
   "outputs": [
    {
     "data": {
      "text/plain": [
       "0.9647058823529412"
      ]
     },
     "execution_count": 118,
     "metadata": {},
     "output_type": "execute_result"
    }
   ],
   "source": [
    "##P(Survived = true | Gender = female, Class = 1)\n",
    "len(titanic_df_female_c1.loc[titanic_df_female_c1[\"Survived\"] == 1])/len(titanic_df_female_c1)"
   ]
  },
  {
   "cell_type": "code",
   "execution_count": 119,
   "id": "1b6f70c5",
   "metadata": {},
   "outputs": [
    {
     "data": {
      "text/plain": [
       "0.918918918918919"
      ]
     },
     "execution_count": 119,
     "metadata": {},
     "output_type": "execute_result"
    }
   ],
   "source": [
    "##P(Survived = true | Gender = female, Class = 2)\n",
    "len(titanic_df_female_c2.loc[titanic_df_female_c2[\"Survived\"] == 1])/len(titanic_df_female_c2)"
   ]
  },
  {
   "cell_type": "code",
   "execution_count": 120,
   "id": "9644f86b",
   "metadata": {},
   "outputs": [
    {
     "data": {
      "text/plain": [
       "0.46078431372549017"
      ]
     },
     "execution_count": 120,
     "metadata": {},
     "output_type": "execute_result"
    }
   ],
   "source": [
    "##P(Survived = true | Gender = female, Class = 3)\n",
    "len(titanic_df_female_c3.loc[titanic_df_female_c3[\"Survived\"] == 1])/len(titanic_df_female_c3)"
   ]
  },
  {
   "cell_type": "code",
   "execution_count": 153,
   "id": "0d1eedcd",
   "metadata": {},
   "outputs": [
    {
     "data": {
      "text/plain": [
       "0.39603960396039606"
      ]
     },
     "execution_count": 153,
     "metadata": {},
     "output_type": "execute_result"
    }
   ],
   "source": [
    "##P(Survived = true | Gender = male, Class = 1)\n",
    "len(titanic_df_male_c1.loc[titanic_df_male_c1[\"Survived\"] == 1])/len(titanic_df_male_c1)"
   ]
  },
  {
   "cell_type": "code",
   "execution_count": 154,
   "id": "2b2d65a2",
   "metadata": {},
   "outputs": [
    {
     "data": {
      "text/plain": [
       "0.15151515151515152"
      ]
     },
     "execution_count": 154,
     "metadata": {},
     "output_type": "execute_result"
    }
   ],
   "source": [
    "##P(Survived = true | Gender = male, Class = 2)\n",
    "len(titanic_df_male_c2.loc[titanic_df_male_c2[\"Survived\"] == 1])/len(titanic_df_male_c2)"
   ]
  },
  {
   "cell_type": "code",
   "execution_count": 155,
   "id": "23217a2f",
   "metadata": {},
   "outputs": [
    {
     "data": {
      "text/plain": [
       "0.15019762845849802"
      ]
     },
     "execution_count": 155,
     "metadata": {},
     "output_type": "execute_result"
    }
   ],
   "source": [
    "##P(Survived = true | Gender = male, Class = 3)\n",
    "len(titanic_df_male_c3.loc[titanic_df_male_c3[\"Survived\"] == 1])/len(titanic_df_male_c3)"
   ]
  },
  {
   "cell_type": "markdown",
   "id": "3b29c96c",
   "metadata": {},
   "source": [
    "Females in first class were the most likely to survive (96.47058823529412%), whereas males in third class were least likely to survive (15.019762845849802%). "
   ]
  },
  {
   "cell_type": "code",
   "execution_count": 124,
   "id": "9d0a45fe",
   "metadata": {},
   "outputs": [],
   "source": [
    "##Initialize a dataframe of just the individual classes\n",
    "titanic_df_c1 = titanic_df.loc[titanic_df[\"Pclass\"] == 1]\n",
    "titanic_df_c2 = titanic_df.loc[titanic_df[\"Pclass\"] == 2]\n",
    "titanic_df_c3 = titanic_df.loc[titanic_df[\"Pclass\"] == 3]\n",
    "\n",
    "##Now initialize another dataframe taking away anyone over the age of 10\n",
    "titanic_df_c3_kids = titanic_df_c3.loc[titanic_df_c3[\"Age\"] <= 10]"
   ]
  },
  {
   "cell_type": "code",
   "execution_count": 125,
   "id": "e89d3641",
   "metadata": {},
   "outputs": [
    {
     "data": {
      "text/plain": [
       "0.4318181818181818"
      ]
     },
     "execution_count": 125,
     "metadata": {},
     "output_type": "execute_result"
    }
   ],
   "source": [
    "##P(Survived = true | Age <= 10, Class = 3)\n",
    "len(titanic_df_c3_kids.loc[titanic_df_c3_kids[\"Survived\"] == 1])/len(titanic_df_c3_kids)"
   ]
  },
  {
   "cell_type": "code",
   "execution_count": 126,
   "id": "843f2194",
   "metadata": {},
   "outputs": [
    {
     "data": {
      "text/plain": [
       "87.96158225806447"
      ]
     },
     "execution_count": 126,
     "metadata": {},
     "output_type": "execute_result"
    }
   ],
   "source": [
    "##Expected fare for first class\n",
    "fare1 = 0\n",
    "for c in titanic_df_c1[\"Fare\"]:\n",
    "    fare1 += c\n",
    "fare1/len(titanic_df_c1[\"Fare\"])"
   ]
  },
  {
   "cell_type": "code",
   "execution_count": 127,
   "id": "8db11989",
   "metadata": {},
   "outputs": [
    {
     "data": {
      "text/plain": [
       "21.47155606936416"
      ]
     },
     "execution_count": 127,
     "metadata": {},
     "output_type": "execute_result"
    }
   ],
   "source": [
    "##Expected fare for second class\n",
    "fare2 = 0\n",
    "for c in titanic_df_c2[\"Fare\"]:\n",
    "    fare2 += c\n",
    "fare2/len(titanic_df_c2[\"Fare\"])"
   ]
  },
  {
   "cell_type": "code",
   "execution_count": 128,
   "id": "32399fe8",
   "metadata": {},
   "outputs": [
    {
     "data": {
      "text/plain": [
       "13.229435211267623"
      ]
     },
     "execution_count": 128,
     "metadata": {},
     "output_type": "execute_result"
    }
   ],
   "source": [
    "##Expected fare for third class\n",
    "fare3 = 0\n",
    "for c in titanic_df_c3[\"Fare\"]:\n",
    "    fare3 += c\n",
    "fare3/len(titanic_df_c3[\"Fare\"])"
   ]
  },
  {
   "cell_type": "markdown",
   "id": "39e55ea2",
   "metadata": {},
   "source": [
    "## Question 9"
   ]
  },
  {
   "cell_type": "code",
   "execution_count": 129,
   "id": "711938ed",
   "metadata": {},
   "outputs": [
    {
     "name": "stdout",
     "output_type": "stream",
     "text": [
      "{'Rev', 'Mme', 'Major', 'Lady', 'Sir', 'the Countess', 'Master', 'Miss', 'Don', 'Jonkheer', 'Mlle', 'Dr', 'Ms', 'Mr', 'Capt', 'Mrs', 'Col'}\n"
     ]
    },
    {
     "data": {
      "text/plain": [
       "17"
      ]
     },
     "execution_count": 129,
     "metadata": {},
     "output_type": "execute_result"
    }
   ],
   "source": [
    "##Initialize a list of all the titles and a set of unique titles (the latter is just for convenience so I know what \n",
    "##to look up later on)\n",
    "titles = []\n",
    "unique_titles = set()\n",
    "##Iterate through the names and split at the first comma and then again at next space after that\n",
    "##Then add that string to the list\n",
    "for c in titanic_df[\"Name\"]:\n",
    "    first_name = c.split(\", \")[1]\n",
    "    titles.append(first_name.split(\". \")[0])\n",
    "    unique_titles.add(first_name.split(\". \")[0])\n",
    "print(str(unique_titles))\n",
    "##All titles listed here\n",
    "len(unique_titles)"
   ]
  },
  {
   "cell_type": "code",
   "execution_count": 130,
   "id": "4d42901e",
   "metadata": {},
   "outputs": [
    {
     "data": {
      "text/plain": [
       "0.0"
      ]
     },
     "execution_count": 130,
     "metadata": {},
     "output_type": "execute_result"
    }
   ],
   "source": [
    "##Create dataframe of only Rev. titles\n",
    "titanic_df_rev = titanic_df[titanic_df[\"Name\"].str.contains(\"Rev. \")]\n",
    "##P(Survived = true | Rev.)\n",
    "len(titanic_df_rev.loc[titanic_df_rev[\"Survived\"] == 1])/len(titanic_df_rev)"
   ]
  },
  {
   "cell_type": "code",
   "execution_count": 131,
   "id": "fc659c28",
   "metadata": {},
   "outputs": [
    {
     "data": {
      "text/plain": [
       "0.5"
      ]
     },
     "execution_count": 131,
     "metadata": {},
     "output_type": "execute_result"
    }
   ],
   "source": [
    "##Create dataframe of only Dr. titles\n",
    "titanic_df_dr = titanic_df[titanic_df[\"Name\"].str.contains(\"Dr. \")]\n",
    "##P(Survived = true | Dr.)\n",
    "len(titanic_df_dr.loc[titanic_df_dr[\"Survived\"] == 1])/len(titanic_df_dr)"
   ]
  },
  {
   "cell_type": "code",
   "execution_count": 132,
   "id": "2489f9dc",
   "metadata": {},
   "outputs": [
    {
     "data": {
      "text/plain": [
       "1.0"
      ]
     },
     "execution_count": 132,
     "metadata": {},
     "output_type": "execute_result"
    }
   ],
   "source": [
    "##Create dataframe of only Ms. titles\n",
    "titanic_df_ms = titanic_df[titanic_df[\"Name\"].str.contains(\"Ms. \")]\n",
    "##P(Survived = true | Ms.)\n",
    "len(titanic_df_ms.loc[titanic_df_ms[\"Survived\"] == 1])/len(titanic_df_ms)"
   ]
  },
  {
   "cell_type": "code",
   "execution_count": 133,
   "id": "512fe637",
   "metadata": {},
   "outputs": [
    {
     "data": {
      "text/plain": [
       "1.0"
      ]
     },
     "execution_count": 133,
     "metadata": {},
     "output_type": "execute_result"
    }
   ],
   "source": [
    "##Create dataframe of only Lady titles\n",
    "titanic_df_lady = titanic_df[titanic_df[\"Name\"].str.contains(\"Lady. \")]\n",
    "##P(Survived = true | Dr.)\n",
    "len(titanic_df_lady.loc[titanic_df_lady[\"Survived\"] == 1])/len(titanic_df_lady)"
   ]
  },
  {
   "cell_type": "code",
   "execution_count": 134,
   "id": "52c62744",
   "metadata": {},
   "outputs": [
    {
     "data": {
      "text/plain": [
       "0.0"
      ]
     },
     "execution_count": 134,
     "metadata": {},
     "output_type": "execute_result"
    }
   ],
   "source": [
    "##Create dataframe of only Jonkheer. titles\n",
    "titanic_df_jonkheer = titanic_df[titanic_df[\"Name\"].str.contains(\"Jonkheer. \")]\n",
    "##P(Survived = true | Jonkheer.)\n",
    "len(titanic_df_jonkheer.loc[titanic_df_jonkheer[\"Survived\"] == 1])/len(titanic_df_jonkheer)"
   ]
  },
  {
   "cell_type": "code",
   "execution_count": 135,
   "id": "0856d952",
   "metadata": {},
   "outputs": [
    {
     "data": {
      "text/plain": [
       "0.5"
      ]
     },
     "execution_count": 135,
     "metadata": {},
     "output_type": "execute_result"
    }
   ],
   "source": [
    "##Create dataframe of only Col. titles\n",
    "titanic_df_col = titanic_df[titanic_df[\"Name\"].str.contains(\"Col. \")]\n",
    "##P(Survived = true | Col.)\n",
    "len(titanic_df_col.loc[titanic_df_col[\"Survived\"] == 1])/len(titanic_df_col)"
   ]
  },
  {
   "cell_type": "code",
   "execution_count": 136,
   "id": "0aed77cd",
   "metadata": {},
   "outputs": [
    {
     "data": {
      "text/plain": [
       "0.0"
      ]
     },
     "execution_count": 136,
     "metadata": {},
     "output_type": "execute_result"
    }
   ],
   "source": [
    "##Create dataframe of only Don. titles\n",
    "titanic_df_don = titanic_df[titanic_df[\"Name\"].str.contains(\"Don. \")]\n",
    "##P(Survived = true | Don.)\n",
    "len(titanic_df_don.loc[titanic_df_don[\"Survived\"] == 1])/len(titanic_df_don)"
   ]
  },
  {
   "cell_type": "code",
   "execution_count": 137,
   "id": "50efa036",
   "metadata": {},
   "outputs": [
    {
     "data": {
      "text/plain": [
       "1.0"
      ]
     },
     "execution_count": 137,
     "metadata": {},
     "output_type": "execute_result"
    }
   ],
   "source": [
    "##Create dataframe of only Mlle. titles\n",
    "titanic_df_mlle = titanic_df[titanic_df[\"Name\"].str.contains(\"Mlle. \")]\n",
    "##P(Survived = true | Mlle.)\n",
    "len(titanic_df_mlle.loc[titanic_df_mlle[\"Survived\"] == 1])/len(titanic_df_mlle)"
   ]
  },
  {
   "cell_type": "code",
   "execution_count": 138,
   "id": "56ec5801",
   "metadata": {},
   "outputs": [
    {
     "data": {
      "text/plain": [
       "1.0"
      ]
     },
     "execution_count": 138,
     "metadata": {},
     "output_type": "execute_result"
    }
   ],
   "source": [
    "##Create dataframe of only Mme. titles\n",
    "titanic_df_mme = titanic_df[titanic_df[\"Name\"].str.contains(\"Mme. \")]\n",
    "##P(Survived = true | Mme.)\n",
    "len(titanic_df_mme.loc[titanic_df_mme[\"Survived\"] == 1])/len(titanic_df_mme)"
   ]
  },
  {
   "cell_type": "code",
   "execution_count": 139,
   "id": "c9944646",
   "metadata": {},
   "outputs": [
    {
     "data": {
      "text/plain": [
       "0.17412935323383086"
      ]
     },
     "execution_count": 139,
     "metadata": {},
     "output_type": "execute_result"
    }
   ],
   "source": [
    "##Create dataframe of only Mr. titles\n",
    "titanic_df_mr = titanic_df[titanic_df[\"Name\"].str.contains(\"Mr. \")]\n",
    "##P(Survived = true | Mr.)\n",
    "len(titanic_df_mr.loc[titanic_df_mr[\"Survived\"] == 1])/len(titanic_df_mr)"
   ]
  },
  {
   "cell_type": "code",
   "execution_count": 140,
   "id": "64b95414",
   "metadata": {},
   "outputs": [
    {
     "data": {
      "text/plain": [
       "0.5"
      ]
     },
     "execution_count": 140,
     "metadata": {},
     "output_type": "execute_result"
    }
   ],
   "source": [
    "##Create dataframe of only Major. titles\n",
    "titanic_df_major = titanic_df[titanic_df[\"Name\"].str.contains(\"Major. \")]\n",
    "##P(Survived = true | Major.)\n",
    "len(titanic_df_major.loc[titanic_df_major[\"Survived\"] == 1])/len(titanic_df_major)"
   ]
  },
  {
   "cell_type": "code",
   "execution_count": 141,
   "id": "3c9a6701",
   "metadata": {},
   "outputs": [
    {
     "data": {
      "text/plain": [
       "0.7870370370370371"
      ]
     },
     "execution_count": 141,
     "metadata": {},
     "output_type": "execute_result"
    }
   ],
   "source": [
    "##Create dataframe of only Mrs. titles\n",
    "titanic_df_mrs = titanic_df[titanic_df[\"Name\"].str.contains(\"Mrs. \")]\n",
    "##P(Survived = true | Mrs.)\n",
    "len(titanic_df_mrs.loc[titanic_df_mrs[\"Survived\"] == 1])/len(titanic_df_mrs)"
   ]
  },
  {
   "cell_type": "code",
   "execution_count": 142,
   "id": "448bb060",
   "metadata": {},
   "outputs": [
    {
     "data": {
      "text/plain": [
       "1.0"
      ]
     },
     "execution_count": 142,
     "metadata": {},
     "output_type": "execute_result"
    }
   ],
   "source": [
    "##Create dataframe of only Countess. titles\n",
    "titanic_df_countess = titanic_df[titanic_df[\"Name\"].str.contains(\"Countess. \")]\n",
    "##P(Survived = true | Countess.)\n",
    "len(titanic_df_countess.loc[titanic_df_countess[\"Survived\"] == 1])/len(titanic_df_countess)"
   ]
  },
  {
   "cell_type": "code",
   "execution_count": 143,
   "id": "5c7fcea5",
   "metadata": {},
   "outputs": [
    {
     "data": {
      "text/plain": [
       "1.0"
      ]
     },
     "execution_count": 143,
     "metadata": {},
     "output_type": "execute_result"
    }
   ],
   "source": [
    "##Create dataframe of only Sir. titles\n",
    "titanic_df_sir = titanic_df[titanic_df[\"Name\"].str.contains(\"Sir. \")]\n",
    "##P(Survived = true | Sir.)\n",
    "len(titanic_df_sir.loc[titanic_df_sir[\"Survived\"] == 1])/len(titanic_df_sir)"
   ]
  },
  {
   "cell_type": "code",
   "execution_count": 144,
   "id": "2f96e157",
   "metadata": {},
   "outputs": [
    {
     "data": {
      "text/plain": [
       "0.5833333333333334"
      ]
     },
     "execution_count": 144,
     "metadata": {},
     "output_type": "execute_result"
    }
   ],
   "source": [
    "##Create dataframe of only Master. titles\n",
    "titanic_df_master = titanic_df[titanic_df[\"Name\"].str.contains(\"Master. \")]\n",
    "##P(Survived = true | Master.)\n",
    "len(titanic_df_master.loc[titanic_df_master[\"Survived\"] == 1])/len(titanic_df_master)"
   ]
  },
  {
   "cell_type": "code",
   "execution_count": 145,
   "id": "16032028",
   "metadata": {},
   "outputs": [
    {
     "data": {
      "text/plain": [
       "0.7191780821917808"
      ]
     },
     "execution_count": 145,
     "metadata": {},
     "output_type": "execute_result"
    }
   ],
   "source": [
    "##Create dataframe of only Miss. titles\n",
    "titanic_df_miss = titanic_df[titanic_df[\"Name\"].str.contains(\"Miss. \")]\n",
    "##P(Survived = true | Miss.)\n",
    "len(titanic_df_miss.loc[titanic_df_miss[\"Survived\"] == 1])/len(titanic_df_miss)"
   ]
  },
  {
   "cell_type": "code",
   "execution_count": 146,
   "id": "86a2050a",
   "metadata": {},
   "outputs": [
    {
     "data": {
      "text/plain": [
       "0.0"
      ]
     },
     "execution_count": 146,
     "metadata": {},
     "output_type": "execute_result"
    }
   ],
   "source": [
    "##Create dataframe of only Capt. titles\n",
    "titanic_df_capt = titanic_df[titanic_df[\"Name\"].str.contains(\"Capt. \")]\n",
    "##P(Survived = true | Capt.)\n",
    "len(titanic_df_capt.loc[titanic_df_capt[\"Survived\"] == 1])/len(titanic_df_capt)"
   ]
  },
  {
   "cell_type": "markdown",
   "id": "d367d2db",
   "metadata": {},
   "source": [
    "Several titles had a perfect survival rate, including Ms., Lady, Mlle. Mme., Countess, and Sir. The same can be said for perfect death rate (Rev., Jonkheer, Don., and Capt.). Interestingly, most of the \"perfect\" roles were women, whereas the worst ones were mostly men. That being said, these roles also had a very small number of people as well.  "
   ]
  },
  {
   "cell_type": "markdown",
   "id": "4883f7ea",
   "metadata": {},
   "source": [
    "# Part V: Visualization"
   ]
  },
  {
   "cell_type": "markdown",
   "id": "5cb59709",
   "metadata": {},
   "source": [
    "## Question 10"
   ]
  },
  {
   "cell_type": "code",
   "execution_count": 147,
   "id": "53fe2354",
   "metadata": {},
   "outputs": [
    {
     "data": {
      "image/png": "[encoded data removed]",
      "text/plain": [
       "<Figure size 432x288 with 1 Axes>"
      ]
     },
     "metadata": {
      "needs_background": "light"
     },
     "output_type": "display_data"
    }
   ],
   "source": [
    "##Axis labels\n",
    "survived_labels = [\"Survived\", \"Did Not Survive\"]\n",
    "##People who survived vs people who did not\n",
    "survived_vals = [len(titanic_df[titanic_df[\"Survived\"] == 1]), len(titanic_df[titanic_df[\"Survived\"] == 0])]\n",
    "\n",
    "##Survided vs Did Not Survive bar chart\n",
    "plt.bar(survived_labels, survived_vals)\n",
    "plt.title(\"Titanic Passenger Survival\")\n",
    "plt.ylabel(\"Survival Percentage\")\n",
    "plt.show()"
   ]
  },
  {
   "cell_type": "code",
   "execution_count": 148,
   "id": "cbd36496",
   "metadata": {},
   "outputs": [
    {
     "data": {
      "text/plain": [
       "<AxesSubplot:>"
      ]
     },
     "execution_count": 148,
     "metadata": {},
     "output_type": "execute_result"
    },
    {
     "data": {
      "image/png": "[encoded data removed]",
      "text/plain": [
       "<Figure size 432x288 with 2 Axes>"
      ]
     },
     "metadata": {
      "needs_background": "light"
     },
     "output_type": "display_data"
    }
   ],
   "source": [
    "##Correlation heatmap\n",
    "\n",
    "##Make my correlation matrix all floats (because it wasn't before for some reason)\n",
    "titanic_df_corr_mat = titanic_df_corr_mat.astype(float)\n",
    "\n",
    "##Actually create the heatmap\n",
    "sns.heatmap(titanic_df_corr_mat, annot=True)"
   ]
  },
  {
   "cell_type": "code",
   "execution_count": 149,
   "id": "d86ac6b8",
   "metadata": {},
   "outputs": [],
   "source": [
    "##Survival by title bar graph"
   ]
  },
  {
   "cell_type": "code",
   "execution_count": 150,
   "id": "ab80e695",
   "metadata": {},
   "outputs": [
    {
     "data": {
      "image/png": "[encoded data removed]",
      "text/plain": [
       "<Figure size 432x288 with 1 Axes>"
      ]
     },
     "metadata": {
      "needs_background": "light"
     },
     "output_type": "display_data"
    }
   ],
   "source": [
    "##Axis labels\n",
    "survived_title_labels = [\"Countess\", \"Mlle. \", \"Mme. \", \"Ms. \", \"Lady\"]\n",
    "##People who survived vs people who did not\n",
    "survived_title_vals = [1.0, 1.0, 1.0, 1.0, 1.0]\n",
    "\n",
    "##Survided vs Did Not Survive (Top 5) bar chart\n",
    "plt.bar(survived_title_labels, survived_title_vals)\n",
    "plt.title(\"Titanic Passenger Survival (Top 5 Titles)\")\n",
    "plt.ylabel(\"Survival Percentage\")\n",
    "plt.show()"
   ]
  },
  {
   "cell_type": "code",
   "execution_count": 151,
   "id": "dc3acf7c",
   "metadata": {},
   "outputs": [
    {
     "data": {
      "image/png": "[encoded data removed]",
      "text/plain": [
       "<Figure size 432x288 with 1 Axes>"
      ]
     },
     "metadata": {
      "needs_background": "light"
     },
     "output_type": "display_data"
    }
   ],
   "source": [
    "##Dictionary of who survived at each fare\n",
    "survivor_fares = dict()\n",
    "for index, rows in titanic_df.iterrows():\n",
    "    fare = rows['Fare']\n",
    "    if(not(fare in survivor_fares.keys())):\n",
    "        for i, r in titanic_df.iterrows():\n",
    "            survived = 0\n",
    "            if(r[\"Survived\"] == 1 and r[\"Fare\"] == fare):\n",
    "                survived += 1\n",
    "        survivor_fares[fare] = survived\n",
    "plt.hist(survivor_fares)\n",
    "plt.xlabel(\"Fares\")\n",
    "plt.ylabel(\"Survivors\")\n",
    "plt.title(\"Number of Survivors per Ticket Fare\")\n",
    "plt.show()"
   ]
  }
 ],
 "metadata": {
  "kernelspec": {
   "display_name": "Python 3",
   "language": "python",
   "name": "python3"
  },
  "language_info": {
   "codemirror_mode": {
    "name": "ipython",
    "version": 3
   },
   "file_extension": ".py",
   "mimetype": "text/x-python",
   "name": "python",
   "nbconvert_exporter": "python",
   "pygments_lexer": "ipython3",
   "version": "3.8.8"
  }
 },
 "nbformat": 4,
 "nbformat_minor": 5
}
