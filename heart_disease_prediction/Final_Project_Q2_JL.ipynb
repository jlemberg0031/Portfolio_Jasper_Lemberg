{
 "cells": [
  {
   "cell_type": "markdown",
   "metadata": {},
   "source": [
    "Jasper Lemberg\n",
    "\n",
    "Professor Brendan Mort\n",
    "\n",
    "DSCC 201\n",
    "\n",
    "9 December 2020\n",
    "\n",
    "Final Project - Question 2"
   ]
  },
  {
   "cell_type": "markdown",
   "metadata": {},
   "source": [
    "2. Now we will repeat question 1, but using R and a different model. Use R version 3.5.1/b1. Using the R console, the R kernel of a Jupyter notebook, or R Studio, perform the following tasks: (50 points)"
   ]
  },
  {
   "cell_type": "markdown",
   "metadata": {},
   "source": [
    "    A. Import the /public/bmort/python/heartdisease.csv file into a data frame in R."
   ]
  },
  {
   "cell_type": "code",
   "execution_count": 1,
   "metadata": {},
   "outputs": [
    {
     "data": {
      "text/html": [
       "<table>\n",
       "<caption>A data.frame: 6 × 14</caption>\n",
       "<thead>\n",
       "\t<tr><th scope=col>age</th><th scope=col>sex</th><th scope=col>pain</th><th scope=col>bp</th><th scope=col>chol</th><th scope=col>sugar</th><th scope=col>ecg</th><th scope=col>rate</th><th scope=col>angina</th><th scope=col>stv</th><th scope=col>sts</th><th scope=col>mvn</th><th scope=col>thal</th><th scope=col>disease</th></tr>\n",
       "\t<tr><th scope=col>&lt;int&gt;</th><th scope=col>&lt;int&gt;</th><th scope=col>&lt;int&gt;</th><th scope=col>&lt;int&gt;</th><th scope=col>&lt;int&gt;</th><th scope=col>&lt;int&gt;</th><th scope=col>&lt;int&gt;</th><th scope=col>&lt;int&gt;</th><th scope=col>&lt;int&gt;</th><th scope=col>&lt;dbl&gt;</th><th scope=col>&lt;int&gt;</th><th scope=col>&lt;int&gt;</th><th scope=col>&lt;int&gt;</th><th scope=col>&lt;int&gt;</th></tr>\n",
       "</thead>\n",
       "<tbody>\n",
       "\t<tr><td>63</td><td>1</td><td>1</td><td>145</td><td>233</td><td>1</td><td>2</td><td>150</td><td>0</td><td>2.3</td><td>3</td><td>0</td><td>6</td><td>0</td></tr>\n",
       "\t<tr><td>67</td><td>1</td><td>4</td><td>160</td><td>286</td><td>0</td><td>2</td><td>108</td><td>1</td><td>1.5</td><td>2</td><td>3</td><td>3</td><td>1</td></tr>\n",
       "\t<tr><td>67</td><td>1</td><td>4</td><td>120</td><td>229</td><td>0</td><td>2</td><td>129</td><td>1</td><td>2.6</td><td>2</td><td>2</td><td>7</td><td>1</td></tr>\n",
       "\t<tr><td>37</td><td>1</td><td>3</td><td>130</td><td>250</td><td>0</td><td>0</td><td>187</td><td>0</td><td>3.5</td><td>3</td><td>0</td><td>3</td><td>0</td></tr>\n",
       "\t<tr><td>41</td><td>0</td><td>2</td><td>130</td><td>204</td><td>0</td><td>2</td><td>172</td><td>0</td><td>1.4</td><td>1</td><td>0</td><td>3</td><td>0</td></tr>\n",
       "\t<tr><td>56</td><td>1</td><td>2</td><td>120</td><td>236</td><td>0</td><td>0</td><td>178</td><td>0</td><td>0.8</td><td>1</td><td>0</td><td>3</td><td>0</td></tr>\n",
       "</tbody>\n",
       "</table>\n"
      ],
      "text/latex": [
       "A data.frame: 6 × 14\n",
       "\\begin{tabular}{r|llllllllllllll}\n",
       " age & sex & pain & bp & chol & sugar & ecg & rate & angina & stv & sts & mvn & thal & disease\\\\\n",
       " <int> & <int> & <int> & <int> & <int> & <int> & <int> & <int> & <int> & <dbl> & <int> & <int> & <int> & <int>\\\\\n",
       "\\hline\n",
       "\t 63 & 1 & 1 & 145 & 233 & 1 & 2 & 150 & 0 & 2.3 & 3 & 0 & 6 & 0\\\\\n",
       "\t 67 & 1 & 4 & 160 & 286 & 0 & 2 & 108 & 1 & 1.5 & 2 & 3 & 3 & 1\\\\\n",
       "\t 67 & 1 & 4 & 120 & 229 & 0 & 2 & 129 & 1 & 2.6 & 2 & 2 & 7 & 1\\\\\n",
       "\t 37 & 1 & 3 & 130 & 250 & 0 & 0 & 187 & 0 & 3.5 & 3 & 0 & 3 & 0\\\\\n",
       "\t 41 & 0 & 2 & 130 & 204 & 0 & 2 & 172 & 0 & 1.4 & 1 & 0 & 3 & 0\\\\\n",
       "\t 56 & 1 & 2 & 120 & 236 & 0 & 0 & 178 & 0 & 0.8 & 1 & 0 & 3 & 0\\\\\n",
       "\\end{tabular}\n"
      ],
      "text/markdown": [
       "\n",
       "A data.frame: 6 × 14\n",
       "\n",
       "| age &lt;int&gt; | sex &lt;int&gt; | pain &lt;int&gt; | bp &lt;int&gt; | chol &lt;int&gt; | sugar &lt;int&gt; | ecg &lt;int&gt; | rate &lt;int&gt; | angina &lt;int&gt; | stv &lt;dbl&gt; | sts &lt;int&gt; | mvn &lt;int&gt; | thal &lt;int&gt; | disease &lt;int&gt; |\n",
       "|---|---|---|---|---|---|---|---|---|---|---|---|---|---|\n",
       "| 63 | 1 | 1 | 145 | 233 | 1 | 2 | 150 | 0 | 2.3 | 3 | 0 | 6 | 0 |\n",
       "| 67 | 1 | 4 | 160 | 286 | 0 | 2 | 108 | 1 | 1.5 | 2 | 3 | 3 | 1 |\n",
       "| 67 | 1 | 4 | 120 | 229 | 0 | 2 | 129 | 1 | 2.6 | 2 | 2 | 7 | 1 |\n",
       "| 37 | 1 | 3 | 130 | 250 | 0 | 0 | 187 | 0 | 3.5 | 3 | 0 | 3 | 0 |\n",
       "| 41 | 0 | 2 | 130 | 204 | 0 | 2 | 172 | 0 | 1.4 | 1 | 0 | 3 | 0 |\n",
       "| 56 | 1 | 2 | 120 | 236 | 0 | 0 | 178 | 0 | 0.8 | 1 | 0 | 3 | 0 |\n",
       "\n"
      ],
      "text/plain": [
       "  age sex pain bp  chol sugar ecg rate angina stv sts mvn thal disease\n",
       "1 63  1   1    145 233  1     2   150  0      2.3 3   0   6    0      \n",
       "2 67  1   4    160 286  0     2   108  1      1.5 2   3   3    1      \n",
       "3 67  1   4    120 229  0     2   129  1      2.6 2   2   7    1      \n",
       "4 37  1   3    130 250  0     0   187  0      3.5 3   0   3    0      \n",
       "5 41  0   2    130 204  0     2   172  0      1.4 1   0   3    0      \n",
       "6 56  1   2    120 236  0     0   178  0      0.8 1   0   3    0      "
      ]
     },
     "metadata": {},
     "output_type": "display_data"
    }
   ],
   "source": [
    "heart_disease <- read.csv(\"/public/bmort/python/heartdisease.csv\")\n",
    "head(heart_disease)"
   ]
  },
  {
   "cell_type": "markdown",
   "metadata": {},
   "source": [
    "    B. Is there any missing data in the data frame? What is missing? Perform any necessary \n",
    "    data imputation before proceeding. Explain the reason behind the choice made."
   ]
  },
  {
   "cell_type": "code",
   "execution_count": 2,
   "metadata": {},
   "outputs": [
    {
     "data": {
      "text/html": [
       "1"
      ],
      "text/latex": [
       "1"
      ],
      "text/markdown": [
       "1"
      ],
      "text/plain": [
       "[1] 1"
      ]
     },
     "metadata": {},
     "output_type": "display_data"
    }
   ],
   "source": [
    "sum(is.na(heart_disease))"
   ]
  },
  {
   "cell_type": "markdown",
   "metadata": {},
   "source": [
    "        There is one missing datum in the data frame, which I know is in the rate column \n",
    "        from question 1B. To fix this, I imputed the column's median in that spot, as shown \n",
    "        by the code below."
   ]
  },
  {
   "cell_type": "code",
   "execution_count": 3,
   "metadata": {},
   "outputs": [
    {
     "data": {
      "text/html": [
       "0"
      ],
      "text/latex": [
       "0"
      ],
      "text/markdown": [
       "0"
      ],
      "text/plain": [
       "[1] 0"
      ]
     },
     "metadata": {},
     "output_type": "display_data"
    }
   ],
   "source": [
    "heart_disease[is.na(heart_disease)] <- median(heart_disease$rate, na.rm = T)\n",
    "sum(is.na(heart_disease))"
   ]
  },
  {
   "cell_type": "markdown",
   "metadata": {},
   "source": [
    "    C. Check the summary statistics on the data. How do the ranges of the values in \n",
    "    the columns compare? Does each column of data have similar magnitudes and ranges?"
   ]
  },
  {
   "cell_type": "code",
   "execution_count": 4,
   "metadata": {},
   "outputs": [
    {
     "data": {
      "text/plain": [
       "      age             sex            pain             bp             chol      \n",
       " Min.   :29.00   Min.   :0.00   Min.   :1.000   Min.   : 94.0   Min.   :126.0  \n",
       " 1st Qu.:48.00   1st Qu.:0.00   1st Qu.:3.000   1st Qu.:120.0   1st Qu.:211.0  \n",
       " Median :56.00   Median :1.00   Median :3.000   Median :130.0   Median :241.5  \n",
       " Mean   :54.48   Mean   :0.68   Mean   :3.153   Mean   :131.6   Mean   :246.9  \n",
       " 3rd Qu.:61.00   3rd Qu.:1.00   3rd Qu.:4.000   3rd Qu.:140.0   3rd Qu.:275.2  \n",
       " Max.   :77.00   Max.   :1.00   Max.   :4.000   Max.   :200.0   Max.   :564.0  \n",
       "     sugar             ecg              rate           angina      \n",
       " Min.   :0.0000   Min.   :0.0000   Min.   : 71.0   Min.   :0.0000  \n",
       " 1st Qu.:0.0000   1st Qu.:0.0000   1st Qu.:135.5   1st Qu.:0.0000  \n",
       " Median :0.0000   Median :0.5000   Median :153.0   Median :0.0000  \n",
       " Mean   :0.1467   Mean   :0.9867   Mean   :149.8   Mean   :0.3267  \n",
       " 3rd Qu.:0.0000   3rd Qu.:2.0000   3rd Qu.:166.0   3rd Qu.:1.0000  \n",
       " Max.   :1.0000   Max.   :2.0000   Max.   :202.0   Max.   :1.0000  \n",
       "      stv            sts             mvn            thal          disease    \n",
       " Min.   :0.00   Min.   :1.000   Min.   :0.00   Min.   :3.000   Min.   :0.00  \n",
       " 1st Qu.:0.00   1st Qu.:1.000   1st Qu.:0.00   1st Qu.:3.000   1st Qu.:0.00  \n",
       " Median :0.80   Median :2.000   Median :0.00   Median :3.000   Median :0.00  \n",
       " Mean   :1.05   Mean   :1.603   Mean   :0.67   Mean   :4.727   Mean   :0.46  \n",
       " 3rd Qu.:1.60   3rd Qu.:2.000   3rd Qu.:1.00   3rd Qu.:7.000   3rd Qu.:1.00  \n",
       " Max.   :6.20   Max.   :3.000   Max.   :3.00   Max.   :7.000   Max.   :1.00  "
      ]
     },
     "metadata": {},
     "output_type": "display_data"
    }
   ],
   "source": [
    "summary(heart_disease)"
   ]
  },
  {
   "cell_type": "markdown",
   "metadata": {},
   "source": [
    "        Age, blood pressure, cholestrol, heart rate, and stv all have ranges over 3 \n",
    "        and standard deviations over 1. Therefore, these columns are not all on the \n",
    "        same range. "
   ]
  },
  {
   "cell_type": "markdown",
   "metadata": {},
   "source": [
    "    D. Partition your data into a training set (80%) and a testing set (20%) \n",
    "    that is randomly selected from the heartdisease.csv data. Hint: Use the caret \n",
    "    library's createDataPartition() function."
   ]
  },
  {
   "cell_type": "code",
   "execution_count": 6,
   "metadata": {
    "scrolled": true
   },
   "outputs": [],
   "source": [
    "library(caret)\n",
    "\n",
    "dp <- createDataPartition(heart_disease$disease, p = 0.8, list = F)\n",
    "training_set <- heart_disease[dp,]\n",
    "testing_set <- heart_disease[-dp,]"
   ]
  },
  {
   "cell_type": "markdown",
   "metadata": {},
   "source": [
    "    E. Use the support vector machine (SVM) method with a linear basis function \n",
    "    kernel from R's caret library to develop a model to predict heart disease \n",
    "    diagnosis based on the 13 features provided in the data set for each patient. \n",
    "    Make sure to use the caret library's built-in repeated cross-validation \n",
    "    capability for training your model. You will need to define a training control \n",
    "    object using caret's trainControl() function. The training of the model is called \n",
    "    by the train() function of the caret library. "
   ]
  },
  {
   "cell_type": "code",
   "execution_count": 7,
   "metadata": {},
   "outputs": [],
   "source": [
    "tc <- trainControl(method = \"cv\", number = 5)\n",
    "model <- train(as.factor(disease) ~ ., data =  training_set, \n",
    "               method = \"svmLinear\", trControl = tc)"
   ]
  },
  {
   "cell_type": "markdown",
   "metadata": {},
   "source": [
    "    F. Generate a confusion matrix using the data from your test set to show the \n",
    "    accuracy of the model using the confusionMatrix() function. Comment on the \n",
    "    accuracy of the model. What percent are false positives? What percent are false \n",
    "    negatives? How does the SVM model compare with the logistic regression model \n",
    "    generated in Question 1?"
   ]
  },
  {
   "cell_type": "code",
   "execution_count": 8,
   "metadata": {},
   "outputs": [
    {
     "data": {
      "text/plain": [
       "Confusion Matrix and Statistics\n",
       "\n",
       "          Reference\n",
       "Prediction  0  1\n",
       "         0 28  8\n",
       "         1  4 20\n",
       "                                          \n",
       "               Accuracy : 0.8             \n",
       "                 95% CI : (0.6767, 0.8922)\n",
       "    No Information Rate : 0.5333          \n",
       "    P-Value [Acc > NIR] : 1.609e-05       \n",
       "                                          \n",
       "                  Kappa : 0.5946          \n",
       "                                          \n",
       " Mcnemar's Test P-Value : 0.3865          \n",
       "                                          \n",
       "            Sensitivity : 0.8750          \n",
       "            Specificity : 0.7143          \n",
       "         Pos Pred Value : 0.7778          \n",
       "         Neg Pred Value : 0.8333          \n",
       "             Prevalence : 0.5333          \n",
       "         Detection Rate : 0.4667          \n",
       "   Detection Prevalence : 0.6000          \n",
       "      Balanced Accuracy : 0.7946          \n",
       "                                          \n",
       "       'Positive' Class : 0               \n",
       "                                          "
      ]
     },
     "metadata": {},
     "output_type": "display_data"
    }
   ],
   "source": [
    "test_prediction <- predict(model, newdata = testing_set)\n",
    "confusionMatrix(as.factor(test_prediction), as.factor(testing_set$disease))"
   ]
  },
  {
   "cell_type": "markdown",
   "metadata": {},
   "source": [
    "        Of all the tests, 13.3% are false positives and 6.7% are false negatives. \n",
    "        That being said, the model has 80% accuracy, so it is a fairly good model \n",
    "        and just as good as the logistic regression model from question 1, despite \n",
    "        the lack of standardization."
   ]
  }
 ],
 "metadata": {
  "kernelspec": {
   "display_name": "R 3.6.1",
   "language": "R",
   "name": "r-3.6.1"
  },
  "language_info": {
   "codemirror_mode": "r",
   "file_extension": ".r",
   "mimetype": "text/x-r-source",
   "name": "R",
   "pygments_lexer": "r",
   "version": "3.6.1"
  }
 },
 "nbformat": 4,
 "nbformat_minor": 2
}
